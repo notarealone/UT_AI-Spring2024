{
  "cells": [
    {
      "cell_type": "markdown",
      "id": "0d065b22",
      "metadata": {},
      "source": [
        "<div style=\"text-align: center; color:#FF9000\">\n",
        "    <h1><b>Assignment 5 - Convolutional Neural Network </b></h1>\n",
        "    <h3>Artificial Intelligence - Spring 2024</h3></div>\n",
        "<p style=\"text-align: center;text-decoration: underline\">Alireza Hosseini</p>\n",
        "<p style=\"text-align: center;text-decoration: underline\">SID : 810100125</p>\n"
      ]
    },
    {
      "cell_type": "markdown",
      "id": "eY99YE-VG1C9",
      "metadata": {
        "id": "eY99YE-VG1C9"
      },
      "source": [
        "# Setup environment"
      ]
    },
    {
      "cell_type": "code",
      "execution_count": 3,
      "id": "fec65989e04597f0",
      "metadata": {
        "colab": {
          "base_uri": "https://localhost:8080/"
        },
        "id": "fec65989e04597f0",
        "outputId": "a8143fa0-643e-4e5c-8cb4-bd0983920fc1"
      },
      "outputs": [],
      "source": [
        "#%pip install gensim emoji nltk tqdm seaborn torch torchsummary -q"
      ]
    },
    {
      "cell_type": "code",
      "execution_count": 50,
      "id": "initial_id",
      "metadata": {
        "collapsed": true,
        "id": "initial_id"
      },
      "outputs": [],
      "source": [
        "import pandas as pd\n",
        "import torch\n",
        "from torch import nn\n",
        "from torch.utils.data import DataLoader, Dataset\n",
        "\n",
        "import gensim\n",
        "\n",
        "from sklearn.model_selection import train_test_split\n",
        "import sklearn.metrics as metrics\n",
        "\n",
        "import matplotlib.pyplot as plt\n",
        "import seaborn as sns\n",
        "import numpy as np\n",
        "from tqdm import tqdm\n",
        "import os\n",
        "\n",
        "import ssl\n",
        "ssl._create_default_https_context = ssl._create_unverified_context"
      ]
    },
    {
      "cell_type": "markdown",
      "id": "cf946d026ed2d98e",
      "metadata": {
        "collapsed": false,
        "id": "cf946d026ed2d98e"
      },
      "source": [
        "# Config"
      ]
    },
    {
      "cell_type": "markdown",
      "id": "3e83a8b72b644c2",
      "metadata": {
        "collapsed": false,
        "id": "3e83a8b72b644c2"
      },
      "source": [
        "## Model training config"
      ]
    },
    {
      "cell_type": "code",
      "execution_count": 51,
      "id": "2d0826c5b8eb52c9",
      "metadata": {
        "id": "2d0826c5b8eb52c9"
      },
      "outputs": [],
      "source": [
        "LEARNING_RATE = 4e-4\n",
        "WEIGHT_DECAY = 1e-2\n",
        "BATCH_SIZE = 32\n",
        "EPOCHS = 10\n",
        "TEST_TRAIN_RATIO = 0.75\n",
        "\n",
        "SEQUENCE_LEN = 64"
      ]
    },
    {
      "cell_type": "code",
      "execution_count": 52,
      "id": "b1f939dd5898a0b6",
      "metadata": {
        "colab": {
          "base_uri": "https://localhost:8080/"
        },
        "id": "b1f939dd5898a0b6",
        "outputId": "53d8cfac-067c-495b-ccd4-a6469a34661a"
      },
      "outputs": [
        {
          "name": "stdout",
          "output_type": "stream",
          "text": [
            "cpu\n"
          ]
        }
      ],
      "source": [
        "DEVICE = torch.device(\"cuda\" if torch.cuda.is_available() else \"cpu\")\n",
        "print(DEVICE)"
      ]
    },
    {
      "cell_type": "markdown",
      "id": "27110752c038c1d0",
      "metadata": {
        "collapsed": false,
        "id": "27110752c038c1d0"
      },
      "source": [
        "# Data Preparation"
      ]
    },
    {
      "cell_type": "markdown",
      "id": "32b050729991fec9",
      "metadata": {
        "collapsed": false,
        "id": "32b050729991fec9"
      },
      "source": [
        "## Load Data"
      ]
    },
    {
      "cell_type": "code",
      "execution_count": 53,
      "id": "88e92f34d72c6f62",
      "metadata": {
        "colab": {
          "base_uri": "https://localhost:8080/"
        },
        "id": "88e92f34d72c6f62",
        "outputId": "693d9849-7f88-4f45-d824-eb802aa20b10"
      },
      "outputs": [
        {
          "name": "stdout",
          "output_type": "stream",
          "text": [
            "<bound method NDFrame.head of                                                   tweet  intention\n",
            "0     my life is meaningless i just want to end my l...          1\n",
            "1     muttering i wanna die to myself daily for a fe...          1\n",
            "2     work slave i really feel like my only purpose ...          1\n",
            "3     i did something on the 2 of october i overdose...          1\n",
            "4     i feel like no one cares i just want to die ma...          1\n",
            "...                                                 ...        ...\n",
            "9114  have you ever laid on your bed at night and cr...          1\n",
            "9115  the fault the blame the pain s still there i m...          1\n",
            "9116  stop asking me to trust you when i m still cou...          1\n",
            "9117  i never know how to handle sadness crying make...          1\n",
            "9118  when cancer takes a life we blame cancer depre...          1\n",
            "\n",
            "[9119 rows x 2 columns]>\n"
          ]
        }
      ],
      "source": [
        "CSV_DATA = pd.read_csv(\"/home/alireza/University/AI/assignments/A5/twitter-suicidal-data.csv\")\n",
        "print(CSV_DATA.head)"
      ]
    },
    {
      "cell_type": "markdown",
      "id": "57f7552c58ea498e",
      "metadata": {
        "collapsed": false,
        "id": "57f7552c58ea498e"
      },
      "source": [
        "## Data Preprocessing"
      ]
    },
    {
      "cell_type": "code",
      "execution_count": 54,
      "id": "f16efd0184e90f40",
      "metadata": {
        "colab": {
          "base_uri": "https://localhost:8080/"
        },
        "id": "f16efd0184e90f40",
        "outputId": "6ebc871e-a951-4a8e-e2eb-2d3e74d6f89a"
      },
      "outputs": [
        {
          "name": "stderr",
          "output_type": "stream",
          "text": [
            "[nltk_data] Downloading package stopwords to\n",
            "[nltk_data]     /home/alireza/nltk_data...\n",
            "[nltk_data]   Package stopwords is already up-to-date!\n",
            "[nltk_data] Downloading package punkt to /home/alireza/nltk_data...\n",
            "[nltk_data]   Package punkt is already up-to-date!\n",
            "[nltk_data] Downloading package wordnet to /home/alireza/nltk_data...\n",
            "[nltk_data]   Package wordnet is already up-to-date!\n",
            "[nltk_data] Downloading package averaged_perceptron_tagger to\n",
            "[nltk_data]     /home/alireza/nltk_data...\n",
            "[nltk_data]   Package averaged_perceptron_tagger is already up-to-\n",
            "[nltk_data]       date!\n"
          ]
        },
        {
          "data": {
            "text/plain": [
              "True"
            ]
          },
          "execution_count": 54,
          "metadata": {},
          "output_type": "execute_result"
        }
      ],
      "source": [
        "import nltk\n",
        "import emoji\n",
        "import re\n",
        "\n",
        "nltk.download([\"stopwords\", \"punkt\", \"wordnet\", \"averaged_perceptron_tagger\"])"
      ]
    },
    {
      "cell_type": "code",
      "execution_count": 55,
      "id": "dbe50f445aa09ecc",
      "metadata": {
        "id": "dbe50f445aa09ecc"
      },
      "outputs": [],
      "source": [
        "def convert_emoji_to_text(text):\n",
        "    \"\"\"This function would replace emojies with a space\"\"\"\n",
        "    return emoji.replace_emoji(text, replace=' ')\n",
        "\n",
        "from urllib.parse import urlparse\n",
        "\n",
        "def remove_urls_urllib(text, replacement_text=\" \"):\n",
        "  \"\"\" This function removes URLs from a text string using urllib.parse (for simpler URLs) \"\"\"\n",
        "  words = [replacement_text if urlparse(word).scheme and urlparse(word).netloc else word for word in text.split()]\n",
        "  return \" \".join(words)\n",
        "\n",
        "def remove_stopwords(tokens: list, stopwords):\n",
        "  for i in range(len(tokens)) :\n",
        "    if(tokens[i] in stopwords):\n",
        "      tokens[i] = ''\n",
        "  return tokens\n",
        "\n",
        "stopwords = nltk.corpus.stopwords.words(\"english\")\n",
        "lemmatizer = nltk.stem.WordNetLemmatizer()\n",
        "\n",
        "def nltk_pos_tagger(nltk_tag):\n",
        "    if nltk_tag.startswith('J'):\n",
        "        return 'a'\n",
        "    elif nltk_tag.startswith('V'):\n",
        "        return 'v'\n",
        "    elif nltk_tag.startswith('N'):\n",
        "        return 'n'\n",
        "    elif nltk_tag.startswith('R'):\n",
        "        return 'r'\n",
        "    else:\n",
        "        return 'n'\n",
        "\n",
        "def preprocess_data(text: str):\n",
        "    \"\"\"\n",
        "    Preprocessing steps are as follows:\n",
        "    1. lowercase the text\n",
        "    2. remove punctuation\n",
        "    3. remove numbers\n",
        "    4. remove urls\n",
        "    5. remove usernames\n",
        "    6. remove extra spaces\n",
        "    7. convert emojis to text\n",
        "    8. remove non-word characters\n",
        "    9. lemmatization and tokenization of the text\n",
        "    10. remove stopwords\n",
        "    :param text: str\n",
        "    :return: tokens: list[str]\n",
        "    \"\"\"\n",
        "\n",
        "    #lowercase the text\n",
        "    lowered_case = text.lower()\n",
        "\n",
        "    # remove punctuation\n",
        "    punctuation_removed = re.sub(r'[^\\w\\s]', '', lowered_case)\n",
        "\n",
        "    # remove numbers\n",
        "    numbers_removed = re.sub(r'\\d', '', punctuation_removed)\n",
        "\n",
        "    # remove urls\n",
        "    urls_removed = remove_urls_urllib(numbers_removed)\n",
        "\n",
        "    # remove usernames\n",
        "    usernames_removed = re.sub('@[^\\s]+','', urls_removed)\n",
        "\n",
        "    # remove extra spaces\n",
        "    extraSpaces_removed = re.sub(' +', ' ', usernames_removed)\n",
        "\n",
        "    # convert emojis to text\n",
        "    emojies_converted = convert_emoji_to_text(extraSpaces_removed)\n",
        "\n",
        "    # remove non-word characters\n",
        "    nonWords_removed = emojies_converted #TODO : What should we do here?\n",
        "\n",
        "    # lemmatization and tokenization of the text\n",
        "    tokenized = nltk.word_tokenize(nonWords_removed)\n",
        "    lemmas = [lemmatizer.lemmatize(word) for word in tokenized]\n",
        "\n",
        "    # remove stopwords\n",
        "    stopwords_removed = remove_stopwords(lemmas, stopwords)\n",
        "\n",
        "    # remove empty/white tokens\n",
        "    finalized_tokens = list(filter(None, stopwords_removed))\n",
        "\n",
        "    return finalized_tokens\n"
      ]
    },
    {
      "cell_type": "markdown",
      "id": "00a34cf3",
      "metadata": {},
      "source": [
        "### Why do we use Lower Case ?\n",
        "\n",
        "- __*Advantages :*__\n",
        "    - __Consistency :__ By converting all text to lowercase, We ensure that words like \"Apple\" and \"apple\" are treated as the same token \n",
        "    - __Reduced Vocabulary Size :__ Lowercasing reduces the number of unique tokens, which can be beneficial for __memory efficiency__ and model performance.  \n",
        "    - __Generalization :__ Models trained on lowercased text can generalize better because they are not sensitive to case variations in the input text.\n",
        "- __*Disadvantages :*__\n",
        "    - __Loss of Information :__ Case can carry important information, especially for __proper nouns__ (e.g., \"Amazon\" vs. \"amazon\") and __acronyms__ (e.g., \"NASA\" vs. \"nasa\"). \n",
        "    - __Ambiguity and Confusion :__ Lowercasing can introduce ambiguity in distinguishing between different entities or meanings that are __case-sensitive__. For example, \"US\" (United States) vs. \"us\" (pronoun).\n",
        "\n",
        "### Why do we remove digits from inputs ?\n",
        "\n",
        "- __*Advantages :*__\n",
        "    - Concentrate on Sentimental Words\n",
        "    - Simpler Feature Space (Reduced Dimensionality)\n",
        "    - Less Distracting Information (Noise Reduction)\n",
        "- __*Disadvantages :*__\n",
        "    - Sometimes, numbers can carry important __context__ or contribute to the sentiment. For example, \"I waited for 2 hours\" implies a negative sentiment, while \"I won 1st place\" implies a positive sentiment. (\"The product lasted 2 days\").\n",
        "    - Removing numbers can sometimes lead to ambiguous or incomplete text\n",
        "\n",
        "### Importance of Hashtags\n",
        "- __Context and Meaning__ : Hashtags often encapsulate the main topic or theme of the tweet, providing valuable context. _example : \"#Happy\" clearly indicates a positive sentiment._\n",
        "- __Sentiment Indicators :__ Many hashtags convey emotions directly _(e.g., #love, #hate, #excited)_, acting as strong sentiment indicators.\n",
        "- __Topic Identification :‌__ Hashtags are used to categorize tweets around specific topics, events, or __trends__ _(e.g., #Oscars, #Election2024)_.\n",
        "- __Clarification :__ Hashtags can disambiguate the meaning of a tweet that might be otherwise ambiguous. _For example, \"I can't believe this! #AmazingExperience\"_"
      ]
    },
    {
      "cell_type": "code",
      "execution_count": 42,
      "id": "11ac7d394e03d9f",
      "metadata": {
        "colab": {
          "base_uri": "https://localhost:8080/"
        },
        "id": "11ac7d394e03d9f",
        "outputId": "494e767c-0a37-4a1c-de22-e705cf76b8a7"
      },
      "outputs": [
        {
          "name": "stdout",
          "output_type": "stream",
          "text": [
            "7389                                        i want to die\n",
            "3057    why i dont care to be here 1 childhood trauma ...\n",
            "3558    i m not liking that new itunes pricing at all ...\n",
            "5847       my friend in infy got laid off m sorry for him\n",
            "8129    i really want tr mp to just choke on something...\n",
            "Name: tweet, dtype: object -> 7389                                          [want, die]\n",
            "3057    [dont, care, childhood, trauma, strict, parent...\n",
            "3558    [liking, new, itunes, pricing, mean, seen, sev...\n",
            "5847                     [friend, infy, got, laid, sorry]\n",
            "8129    [really, want, tr, mp, choke, something, small...\n",
            "Name: tweet, dtype: object\n"
          ]
        }
      ],
      "source": [
        "import random\n",
        "\n",
        "SAMPLES_AMOUNT = 5\n",
        "random_tweets = (random.sample(range(0, len(CSV_DATA)), SAMPLES_AMOUNT))\n",
        "print(f\"{CSV_DATA['tweet'][random_tweets]} -> {CSV_DATA['tweet'][random_tweets].apply(lambda x : preprocess_data(x))}\")"
      ]
    },
    {
      "cell_type": "markdown",
      "id": "2e129c7a31663741",
      "metadata": {
        "collapsed": false,
        "id": "2e129c7a31663741"
      },
      "source": [
        "# Word2Vec - Word Embedding"
      ]
    },
    {
      "cell_type": "code",
      "execution_count": 43,
      "id": "8d15b31459fd1e5",
      "metadata": {
        "colab": {
          "base_uri": "https://localhost:8080/"
        },
        "id": "8d15b31459fd1e5",
        "outputId": "e00f8af1-8cf4-4876-ff26-2034d0e634b9"
      },
      "outputs": [
        {
          "name": "stdout",
          "output_type": "stream",
          "text": [
            "fasttext-wiki-news-subwords-300\n",
            "conceptnet-numberbatch-17-06-300\n",
            "word2vec-ruscorpora-300\n",
            "word2vec-google-news-300\n",
            "glove-wiki-gigaword-50\n",
            "glove-wiki-gigaword-100\n",
            "glove-wiki-gigaword-200\n",
            "glove-wiki-gigaword-300\n",
            "glove-twitter-25\n",
            "glove-twitter-50\n",
            "glove-twitter-100\n",
            "glove-twitter-200\n",
            "__testing_word2vec-matrix-synopsis\n"
          ]
        }
      ],
      "source": [
        "# print available word2vec models\n",
        "import gensim.downloader as api\n",
        "print(\"\\n\".join(api.info()['models'].keys()))"
      ]
    },
    {
      "cell_type": "code",
      "execution_count": 44,
      "id": "55bbe6faa1226b8d",
      "metadata": {
        "colab": {
          "base_uri": "https://localhost:8080/"
        },
        "id": "55bbe6faa1226b8d",
        "outputId": "bac6bd02-72a7-4731-c44d-304e405d4eb7"
      },
      "outputs": [
        {
          "name": "stdout",
          "output_type": "stream",
          "text": [
            "Loading Word2Vec model...\n",
            "Word2Vec model is loaded.\n"
          ]
        }
      ],
      "source": [
        "W2V_PATH = \"/home/alireza/University/AI/assignments/A5/word2VecModel\" # Path to W2V if downloaded\n",
        "if W2V_PATH is not None and os.path.exists(W2V_PATH):\n",
        "    print(\"Loading Word2Vec model...\")\n",
        "    w2v_model = gensim.models.KeyedVectors.load(W2V_PATH, mmap='r')\n",
        "    print(\"Word2Vec model is loaded.\")\n",
        "else:\n",
        "    print(\"Downloading Word2Vec model...\")\n",
        "    w2v_model = api.load(\"word2vec-google-news-300\")\n",
        "    print(\"Word2vec model is downloaded.\")\n",
        "    if W2V_PATH is not None:\n",
        "      print(\"\\nSaving Word2Vec model...\")\n",
        "      w2v_model.save(W2V_PATH)\n",
        "      print(\"Word2Vec model is saved.\")"
      ]
    },
    {
      "cell_type": "code",
      "execution_count": 11,
      "id": "7d53926889defc38",
      "metadata": {
        "colab": {
          "base_uri": "https://localhost:8080/"
        },
        "id": "7d53926889defc38",
        "outputId": "22f58842-d03e-49c0-8ea8-59948c97bc43"
      },
      "outputs": [
        {
          "name": "stdout",
          "output_type": "stream",
          "text": [
            "300\n"
          ]
        }
      ],
      "source": [
        "EMBEDDING_VECTOR_DIM = w2v_model.vector_size\n",
        "print(EMBEDDING_VECTOR_DIM)"
      ]
    },
    {
      "cell_type": "markdown",
      "id": "a5380333",
      "metadata": {},
      "source": [
        "### Methods to deal with out-of-vocabulary (OOV) tokens\n",
        "\n",
        "- Special Token (_UNK_) :\n",
        "    - (+) Simple to implement\n",
        "    - (-) Information loss, as different OOV tokens are treated identically.\n",
        "- Random Initialization :\n",
        "    - (+) Preserves the uniqueness of each token.\n",
        "    - (-) Can introduce noise and instability in early training stages.\n",
        "- Contextualized Embeddings (e.g., BERT) :\n",
        "    - (+) Provides context-sensitive embeddings for all tokens, including OOV words.\n",
        "    - (-) Requires significant computational resources."
      ]
    },
    {
      "cell_type": "markdown",
      "id": "21730f8dd01e5b4e",
      "metadata": {
        "collapsed": false,
        "id": "21730f8dd01e5b4e"
      },
      "source": [
        "# Dataset"
      ]
    },
    {
      "cell_type": "code",
      "execution_count": 45,
      "id": "xdqLYrA4xjuX",
      "metadata": {
        "id": "xdqLYrA4xjuX"
      },
      "outputs": [],
      "source": [
        "class Twitter(Dataset):\n",
        "    def __init__(self, dataframe: pd.DataFrame, w2v_model: gensim.models.KeyedVectors, sequence_len: int):\n",
        "        self.dataframe = dataframe\n",
        "        self.w2v_model = w2v_model\n",
        "        self.max_sequence_len = sequence_len\n",
        "        self.vector_size = w2v_model.vector_size\n",
        "\n",
        "        self.df_token_col = \"tokens\"\n",
        "\n",
        "\n",
        "        self._proc_dataset()\n",
        "\n",
        "        self.len = len(self.dataframe)\n",
        "\n",
        "    def __len__(self):\n",
        "        return self.len\n",
        "\n",
        "    def __getitem__(self, idx):\n",
        "        return self.dataframe.iloc[idx][\"vector\"], self.dataframe.iloc[idx][\"intention\"]\n",
        "\n",
        "    def get_vector_size(self):\n",
        "        return self.vector_size\n",
        "\n",
        "    def _proc_dataset(self):\n",
        "        # Preprocess and return tokens list\n",
        "        self.dataframe[self.df_token_col] = self.dataframe[\"tweet\"].map(preprocess_data)\n",
        "\n",
        "        # delete samples with empty tokens\n",
        "        lwz = len(self.dataframe)\n",
        "        self.dataframe = self.dataframe[self.dataframe[self.df_token_col].map(len) > 0]\n",
        "        self.dataframe.reset_index(drop=True, inplace=True)\n",
        "        print(f\"Deleted 0-Len Samples: {lwz - len(self.dataframe)}\")\n",
        "\n",
        "        self.dataframe['Initial Tokens Length'] = self.dataframe[self.df_token_col].apply(len)\n",
        "\n",
        "        # Add padding\n",
        "        #self.dataframe[self.df_token_col] = self.dataframe[self.df_token_col].map(self._pad)\n",
        "        self.dataframe.loc[:, self.df_token_col] = self.dataframe[self.df_token_col].map(self._pad)\n",
        "\n",
        "        # Get embedding's vectors\n",
        "        #self.dataframe[\"vector\"] = self.dataframe[self.df_token_col].map(self._get_word_vectors)\n",
        "        self.dataframe[\"vector\"]  = self.dataframe[self.df_token_col].map(self._get_word_vectors)\n",
        "\n",
        "    def _get_word_vectors(self, tokens: list) -> torch.Tensor:\n",
        "      tensor_list = []\n",
        "      for i in range(len(tokens)) :\n",
        "        if(i >= self.max_sequence_len):\n",
        "            break\n",
        "        if tokens[i] in self.w2v_model:\n",
        "          tensor_list.append(torch.tensor(self.w2v_model[tokens[i]]))\n",
        "        else :\n",
        "          tensor_list.append(torch.zeros(self.vector_size))\n",
        "      return torch.stack(tensor_list)\n",
        "\n",
        "    def _pad(self, tokens: list):\n",
        "        if(len(tokens) < self.max_sequence_len):\n",
        "            return tokens + [0 for _ in range(self.max_sequence_len - len(tokens))]\n",
        "        else :\n",
        "            return tokens\n",
        "\n",
        "    def seq_report(self):\n",
        "        length_all = self.dataframe[self.df_token_col].map(len).tolist()\n",
        "        max_length = np.max(length_all)\n",
        "        print(f\"Sequence Length Report\")\n",
        "        print(f\":::::MAX  LENGTH:::[{max_length:^5}]\")\n",
        "        print(f\":::::MIN  LENGTH:::[{np.min(length_all):^5}]\")\n",
        "        print(f\":::::MEAN LENGTH:::[{np.mean(length_all):^5}]\")\n",
        "\n",
        "        all_tokens = set()\n",
        "        for token_set in self.dataframe[self.df_token_col].tolist():\n",
        "            all_tokens = all_tokens.union(set(token_set))\n",
        "        unique_tokens_count = len(all_tokens)\n",
        "        valid_tokens = sum(1 if token in self.w2v_model else 0 for token in all_tokens)\n",
        "        print(\"Sequence Tokenization Report\")\n",
        "        print(f\":::::All Unique Tokens:::[{unique_tokens_count:^6}\")\n",
        "        print(f\":::::All Valid Tokens:::[{valid_tokens:^6}\")\n",
        "        print(f\":::::Valid Tokens:::[{round(100*valid_tokens/unique_tokens_count, 2):^5}%]\")\n",
        "\n",
        "    @staticmethod\n",
        "    def _to_tensor(tokens: list):\n",
        "        return torch.tensor(tokens, dtype=torch.float32)"
      ]
    },
    {
      "cell_type": "markdown",
      "id": "4b87e7e8b267a1c8",
      "metadata": {
        "collapsed": false,
        "id": "4b87e7e8b267a1c8"
      },
      "source": [
        "# Prepare Data"
      ]
    },
    {
      "cell_type": "markdown",
      "id": "bd00ab880892e646",
      "metadata": {
        "collapsed": false,
        "id": "bd00ab880892e646"
      },
      "source": [
        "## Split Data into train-valid"
      ]
    },
    {
      "cell_type": "code",
      "execution_count": 46,
      "id": "6a54facda2729872",
      "metadata": {
        "colab": {
          "base_uri": "https://localhost:8080/"
        },
        "id": "6a54facda2729872",
        "outputId": "e3272c7b-1f5f-464b-9b7d-21f1015b984f"
      },
      "outputs": [
        {
          "name": "stdout",
          "output_type": "stream",
          "text": [
            "6840 2279\n"
          ]
        }
      ],
      "source": [
        "CSV_DATA_TEST, CSV_DATA_TRAIN = train_test_split(CSV_DATA, test_size=TEST_TRAIN_RATIO)\n",
        "print(len(CSV_DATA_TRAIN), len(CSV_DATA_TEST))"
      ]
    },
    {
      "cell_type": "markdown",
      "id": "670fcd8db0e5651c",
      "metadata": {
        "collapsed": false,
        "id": "670fcd8db0e5651c"
      },
      "source": [
        "## Create Datasets"
      ]
    },
    {
      "cell_type": "code",
      "execution_count": 47,
      "id": "3e4a5b690afadad5",
      "metadata": {
        "colab": {
          "base_uri": "https://localhost:8080/"
        },
        "id": "3e4a5b690afadad5",
        "outputId": "0604f411-f662-4d93-8561-25167e5a9969"
      },
      "outputs": [
        {
          "name": "stdout",
          "output_type": "stream",
          "text": [
            "Deleted 0-Len Samples: 23\n",
            "Deleted 0-Len Samples: 7\n",
            "Train dataset length: 6817\n",
            "Valid dataset length: 2272\n"
          ]
        }
      ],
      "source": [
        "SEQUENCE_LEN = 64\n",
        "pd.options.mode.copy_on_write = True\n",
        "train_dataset = Twitter(CSV_DATA_TRAIN, w2v_model, SEQUENCE_LEN)\n",
        "valid_dataset = Twitter(CSV_DATA_TEST, w2v_model, SEQUENCE_LEN)\n",
        "\n",
        "\n",
        "\n",
        "print(f\"Train dataset length: {len(train_dataset)}\")\n",
        "print(f\"Valid dataset length: {len(valid_dataset)}\")"
      ]
    },
    {
      "cell_type": "code",
      "execution_count": 48,
      "id": "c6ac33a5",
      "metadata": {},
      "outputs": [
        {
          "data": {
            "text/html": [
              "<div>\n",
              "<style scoped>\n",
              "    .dataframe tbody tr th:only-of-type {\n",
              "        vertical-align: middle;\n",
              "    }\n",
              "\n",
              "    .dataframe tbody tr th {\n",
              "        vertical-align: top;\n",
              "    }\n",
              "\n",
              "    .dataframe thead th {\n",
              "        text-align: right;\n",
              "    }\n",
              "</style>\n",
              "<table border=\"1\" class=\"dataframe\">\n",
              "  <thead>\n",
              "    <tr style=\"text-align: right;\">\n",
              "      <th></th>\n",
              "      <th>tweet</th>\n",
              "      <th>intention</th>\n",
              "      <th>tokens</th>\n",
              "      <th>Initial Tokens Length</th>\n",
              "      <th>vector</th>\n",
              "    </tr>\n",
              "  </thead>\n",
              "  <tbody>\n",
              "    <tr>\n",
              "      <th>0</th>\n",
              "      <td>sometimes i wonder where my money goes</td>\n",
              "      <td>0</td>\n",
              "      <td>[sometimes, wonder, money, go, 0, 0, 0, 0, 0, ...</td>\n",
              "      <td>4</td>\n",
              "      <td>[[tensor(0.0967), tensor(-0.0708), tensor(-0.0...</td>\n",
              "    </tr>\n",
              "    <tr>\n",
              "      <th>1</th>\n",
              "      <td>an oracle swallowed a sun and spit out 10000</td>\n",
              "      <td>0</td>\n",
              "      <td>[oracle, swallowed, sun, spit, 0, 0, 0, 0, 0, ...</td>\n",
              "      <td>4</td>\n",
              "      <td>[[tensor(0.4277), tensor(0.0225), tensor(-0.11...</td>\n",
              "    </tr>\n",
              "    <tr>\n",
              "      <th>2</th>\n",
              "      <td>watching bowling for columbine and realised to...</td>\n",
              "      <td>0</td>\n",
              "      <td>[watching, bowling, columbine, realised, tomor...</td>\n",
              "      <td>11</td>\n",
              "      <td>[[tensor(0.2197), tensor(0.1484), tensor(0.265...</td>\n",
              "    </tr>\n",
              "    <tr>\n",
              "      <th>3</th>\n",
              "      <td>its over ive decided ive given up thank you re...</td>\n",
              "      <td>1</td>\n",
              "      <td>[ive, decided, ive, given, thank, reddit, happ...</td>\n",
              "      <td>13</td>\n",
              "      <td>[[tensor(-0.4121), tensor(0.1885), tensor(-0.2...</td>\n",
              "    </tr>\n",
              "    <tr>\n",
              "      <th>4</th>\n",
              "      <td>rant i want to die ive wanted to die for years...</td>\n",
              "      <td>1</td>\n",
              "      <td>[rant, want, die, ive, wanted, die, year, noth...</td>\n",
              "      <td>42</td>\n",
              "      <td>[[tensor(0.0645), tensor(-0.0010), tensor(0.00...</td>\n",
              "    </tr>\n",
              "    <tr>\n",
              "      <th>...</th>\n",
              "      <td>...</td>\n",
              "      <td>...</td>\n",
              "      <td>...</td>\n",
              "      <td>...</td>\n",
              "      <td>...</td>\n",
              "    </tr>\n",
              "    <tr>\n",
              "      <th>6812</th>\n",
              "      <td>injury took my friends wife nothing to live fo...</td>\n",
              "      <td>1</td>\n",
              "      <td>[injury, took, friend, wife, nothing, live, wi...</td>\n",
              "      <td>192</td>\n",
              "      <td>[[tensor(0.2002), tensor(0.0991), tensor(-0.11...</td>\n",
              "    </tr>\n",
              "    <tr>\n",
              "      <th>6813</th>\n",
              "      <td>i hate levi i hate him so much when i see him ...</td>\n",
              "      <td>0</td>\n",
              "      <td>[hate, levi, hate, much, see, want, die, feel,...</td>\n",
              "      <td>27</td>\n",
              "      <td>[[tensor(0.1328), tensor(0.0801), tensor(0.287...</td>\n",
              "    </tr>\n",
              "    <tr>\n",
              "      <th>6814</th>\n",
              "      <td>girlfriend just left me i have no friends pare...</td>\n",
              "      <td>1</td>\n",
              "      <td>[girlfriend, left, friend, parent, dont, care,...</td>\n",
              "      <td>10</td>\n",
              "      <td>[[tensor(-0.0239), tensor(-0.3516), tensor(-0....</td>\n",
              "    </tr>\n",
              "    <tr>\n",
              "      <th>6815</th>\n",
              "      <td>rented marley and me if you watch it be prepar...</td>\n",
              "      <td>0</td>\n",
              "      <td>[rented, marley, watch, prepared, cry, expecti...</td>\n",
              "      <td>7</td>\n",
              "      <td>[[tensor(0.2676), tensor(-0.2031), tensor(-0.1...</td>\n",
              "    </tr>\n",
              "    <tr>\n",
              "      <th>6816</th>\n",
              "      <td>rummicube just started and i haven t put anyth...</td>\n",
              "      <td>0</td>\n",
              "      <td>[rummicube, started, put, anything, 0, 0, 0, 0...</td>\n",
              "      <td>4</td>\n",
              "      <td>[[tensor(0.), tensor(0.), tensor(0.), tensor(0...</td>\n",
              "    </tr>\n",
              "  </tbody>\n",
              "</table>\n",
              "<p>6817 rows × 5 columns</p>\n",
              "</div>"
            ],
            "text/plain": [
              "                                                  tweet  intention  \\\n",
              "0               sometimes i wonder where my money goes           0   \n",
              "1         an oracle swallowed a sun and spit out 10000           0   \n",
              "2     watching bowling for columbine and realised to...          0   \n",
              "3     its over ive decided ive given up thank you re...          1   \n",
              "4     rant i want to die ive wanted to die for years...          1   \n",
              "...                                                 ...        ...   \n",
              "6812  injury took my friends wife nothing to live fo...          1   \n",
              "6813  i hate levi i hate him so much when i see him ...          0   \n",
              "6814  girlfriend just left me i have no friends pare...          1   \n",
              "6815  rented marley and me if you watch it be prepar...          0   \n",
              "6816  rummicube just started and i haven t put anyth...          0   \n",
              "\n",
              "                                                 tokens  \\\n",
              "0     [sometimes, wonder, money, go, 0, 0, 0, 0, 0, ...   \n",
              "1     [oracle, swallowed, sun, spit, 0, 0, 0, 0, 0, ...   \n",
              "2     [watching, bowling, columbine, realised, tomor...   \n",
              "3     [ive, decided, ive, given, thank, reddit, happ...   \n",
              "4     [rant, want, die, ive, wanted, die, year, noth...   \n",
              "...                                                 ...   \n",
              "6812  [injury, took, friend, wife, nothing, live, wi...   \n",
              "6813  [hate, levi, hate, much, see, want, die, feel,...   \n",
              "6814  [girlfriend, left, friend, parent, dont, care,...   \n",
              "6815  [rented, marley, watch, prepared, cry, expecti...   \n",
              "6816  [rummicube, started, put, anything, 0, 0, 0, 0...   \n",
              "\n",
              "      Initial Tokens Length                                             vector  \n",
              "0                         4  [[tensor(0.0967), tensor(-0.0708), tensor(-0.0...  \n",
              "1                         4  [[tensor(0.4277), tensor(0.0225), tensor(-0.11...  \n",
              "2                        11  [[tensor(0.2197), tensor(0.1484), tensor(0.265...  \n",
              "3                        13  [[tensor(-0.4121), tensor(0.1885), tensor(-0.2...  \n",
              "4                        42  [[tensor(0.0645), tensor(-0.0010), tensor(0.00...  \n",
              "...                     ...                                                ...  \n",
              "6812                    192  [[tensor(0.2002), tensor(0.0991), tensor(-0.11...  \n",
              "6813                     27  [[tensor(0.1328), tensor(0.0801), tensor(0.287...  \n",
              "6814                     10  [[tensor(-0.0239), tensor(-0.3516), tensor(-0....  \n",
              "6815                      7  [[tensor(0.2676), tensor(-0.2031), tensor(-0.1...  \n",
              "6816                      4  [[tensor(0.), tensor(0.), tensor(0.), tensor(0...  \n",
              "\n",
              "[6817 rows x 5 columns]"
            ]
          },
          "execution_count": 48,
          "metadata": {},
          "output_type": "execute_result"
        }
      ],
      "source": [
        "train_dataset.dataframe"
      ]
    },
    {
      "cell_type": "code",
      "execution_count": 49,
      "id": "e889771a",
      "metadata": {},
      "outputs": [
        {
          "data": {
            "image/png": "[encoded data removed]",
            "text/plain": [
              "<Figure size 1200x600 with 2 Axes>"
            ]
          },
          "metadata": {},
          "output_type": "display_data"
        }
      ],
      "source": [
        "# Plot using Matplotlib\n",
        "plt.figure(figsize=(12, 6))\n",
        "\n",
        "# Subplot for Matplotlib\n",
        "plt.subplot(1, 2, 1)\n",
        "sns.boxplot(data=train_dataset.dataframe['Initial Tokens Length'], orient='h', color='skyblue')\n",
        "plt.title('Tokens Distribution for Train Data')\n",
        "plt.ylabel('Tokens Amount')\n",
        "\n",
        "# Subplot for Seaborn\n",
        "plt.subplot(1, 2, 2)\n",
        "sns.boxplot(data=valid_dataset.dataframe['Initial Tokens Length'], orient='h', color='skyblue')\n",
        "plt.title('Tokens Distribution for Test Data')\n",
        "plt.ylabel('Tokens Amount')\n",
        "\n",
        "\n",
        "# Show the plot\n",
        "plt.tight_layout()\n",
        "plt.show()"
      ]
    },
    {
      "cell_type": "markdown",
      "id": "fd1da733e79676ff",
      "metadata": {
        "collapsed": false,
        "id": "fd1da733e79676ff"
      },
      "source": [
        "# Model and Train"
      ]
    },
    {
      "cell_type": "markdown",
      "id": "aa29012e257e3d9",
      "metadata": {
        "collapsed": false,
        "id": "aa29012e257e3d9"
      },
      "source": [
        "## Utils"
      ]
    },
    {
      "cell_type": "code",
      "execution_count": 18,
      "id": "d5b33657ae501516",
      "metadata": {
        "id": "d5b33657ae501516"
      },
      "outputs": [],
      "source": [
        "from typing import Literal\n",
        "\n",
        "@torch.no_grad()\n",
        "def model_eval(model, loader, loss_function, device: str = 'auto'):\n",
        "    \"\"\"Returns test_loss, test_acc\"\"\"\n",
        "    test_loss = 0.0\n",
        "    correct = 0\n",
        "    total = 0\n",
        "\n",
        "    if device == \"auto\":\n",
        "        device = torch.device(\"cuda\" if torch.cuda.is_available() else \"cpu\")\n",
        "    else:\n",
        "        device = torch.device(device)\n",
        "\n",
        "    model = model.to(device)\n",
        "    model.eval()\n",
        "\n",
        "    itr = tqdm(loader, total=len(loader), leave=True)\n",
        "\n",
        "    for inputs, labels in itr:\n",
        "        # Move inputs and labels to the specified device\n",
        "        inputs, labels = inputs.to(device), labels.to(device)\n",
        "        \n",
        "        # Forward pass to get outputs\n",
        "        outputs = model(inputs)\n",
        "        \n",
        "        # Calculate loss\n",
        "        loss = loss_function(outputs, labels)\n",
        "        \n",
        "        # Update the total loss\n",
        "        test_loss += loss.item()\n",
        "        \n",
        "        # Calculate accuracy\n",
        "        _, predicted = torch.max(outputs, 1)\n",
        "        correct += (predicted == labels).sum().item()\n",
        "        total += labels.size(0)\n",
        "\n",
        "        # Update progress bar with current loss and accuracy\n",
        "        itr.set_description(\"(Eval)\")\n",
        "        itr.set_postfix(\n",
        "            loss=round(loss.item(), 5),\n",
        "            accuracy=round(correct / total, 5),\n",
        "        )\n",
        "\n",
        "    # Calculate average loss and accuracy\n",
        "    test_loss /= len(loader)\n",
        "    test_acc = correct / total\n",
        "\n",
        "    return test_loss, test_acc\n"
      ]
    },
    {
      "cell_type": "code",
      "execution_count": 19,
      "id": "1bc1edee98f616b5",
      "metadata": {
        "id": "1bc1edee98f616b5"
      },
      "outputs": [],
      "source": [
        "def train_model(\n",
        "        model,\n",
        "        batch_size,\n",
        "        loss_function,\n",
        "        optimizer,\n",
        "        epochs,\n",
        "        train_set,\n",
        "        valid_set,\n",
        "        device: str = 'auto',\n",
        "):\n",
        "\n",
        "    if device == \"auto\":\n",
        "        device = torch.device(\"cuda\" if torch.cuda.is_available() else \"cpu\")\n",
        "    else:\n",
        "        device = torch.device(device)\n",
        "\n",
        "    model.to(device)\n",
        "\n",
        "    train_losses = []\n",
        "    train_accs = []\n",
        "    valid_losses = []\n",
        "    valid_accs = []\n",
        "\n",
        "    # Create dataloaders from datasets\n",
        "    train_loader = DataLoader(train_set, batch_size=batch_size, shuffle=True)\n",
        "    valid_loader = DataLoader(valid_set, batch_size=batch_size, shuffle=False)\n",
        "\n",
        "    for epoch in range(epochs):\n",
        "        model.train()\n",
        "        epoch_loss = 0.0\n",
        "        correct = 0\n",
        "        total = 0\n",
        "\n",
        "        itr = tqdm(train_loader, total=len(train_loader), leave=True)\n",
        "        \n",
        "        for inputs, labels in itr:\n",
        "            # Move inputs and labels to the specified device\n",
        "            inputs, labels = inputs.to(device), labels.to(device)\n",
        "            \n",
        "            # Clear optimizer's state and zero previous gradients\n",
        "            optimizer.zero_grad()\n",
        "\n",
        "            # Forward pass to get outputs\n",
        "            outputs = model(inputs)\n",
        "            \n",
        "            # Calculate loss\n",
        "            loss = loss_function(outputs, labels)\n",
        "            \n",
        "            # Backward pass and optimize\n",
        "            loss.backward()\n",
        "            optimizer.step()\n",
        "            \n",
        "            # Update epoch's loss\n",
        "            epoch_loss += loss.item()\n",
        "\n",
        "            # Calculate and update accuracy\n",
        "            _, predicted = torch.max(outputs, 1)\n",
        "            correct += (predicted == labels).sum().item()\n",
        "            total += labels.size(0)\n",
        "            epoch_acc = correct / total\n",
        "\n",
        "            # Update progress bar with current loss and accuracy\n",
        "            itr.set_description(f\"(Training) Epoch [{epoch + 1}/{epochs}]\")\n",
        "\n",
        "        train_losses.append(epoch_loss / len(train_loader) *100)\n",
        "        train_accs.append(epoch_acc *100)\n",
        "\n",
        "        # Evaluate on validation set\n",
        "        valid_loss, valid_acc = model_eval(\n",
        "            model=model,\n",
        "            loader=valid_loader,\n",
        "            loss_function=loss_function,\n",
        "            device=device\n",
        "        )\n",
        "        \n",
        "        valid_losses.append(valid_loss*100)\n",
        "        valid_accs.append(valid_acc*100)\n",
        "\n",
        "        # Print epoch summary\n",
        "        print(f\"Epoch {epoch + 1}/{epochs}:\")\n",
        "        print(f\"Train Loss: {train_losses[-1]:.2f}%, Train Acc: {train_accs[-1]:.2f}%\")\n",
        "        print(f\"Valid Loss: {valid_losses[-1]:.2f}%, Valid Acc: {valid_accs[-1]:.2f}% \\n\")\n",
        "\n",
        "    history = {\n",
        "        \"train_loss\": train_losses,\n",
        "        \"train_acc\": train_accs,\n",
        "        \"valid_loss\": valid_losses,\n",
        "        \"valid_acc\": valid_accs,\n",
        "    }\n",
        "    return history"
      ]
    },
    {
      "cell_type": "code",
      "execution_count": 20,
      "id": "6e5acc20a7d5d446",
      "metadata": {
        "id": "6e5acc20a7d5d446"
      },
      "outputs": [],
      "source": [
        "def trend_plot_helper(pobj):\n",
        "    plt.figure(figsize=(5*len(pobj), 5))\n",
        "    for idx, (titler, plots) in enumerate(pobj.items(), start=1):\n",
        "        plt.subplot(1, len(pobj), idx)\n",
        "        for label, trend in plots:\n",
        "            plt.plot(range(1, len(trend)+1), trend, label=label)\n",
        "        yt, xt = titler.split(' - ')\n",
        "        plt.xlabel(xt)\n",
        "        plt.ylabel(yt)\n",
        "        plt.legend()"
      ]
    },
    {
      "cell_type": "code",
      "execution_count": 21,
      "id": "819f88c36492de48",
      "metadata": {
        "id": "819f88c36492de48"
      },
      "outputs": [],
      "source": [
        "@torch.no_grad()\n",
        "def generate_confusion_matrix(model, dataset, device='auto'):\n",
        "    if device == 'auto':\n",
        "        device = torch.device(\"cuda\" if torch.cuda.is_available() else \"cpu\")\n",
        "    model = model.to(device)\n",
        "\n",
        "    loader = DataLoader(dataset, batch_size=BATCH_SIZE, shuffle=False)\n",
        "    itr = tqdm(loader, leave=False, desc=\"Generate data\")\n",
        "\n",
        "    labels = []\n",
        "    for inputs, true_labels in itr:\n",
        "        labels.extend(true_labels.tolist())\n",
        "\n",
        "    predicted = []\n",
        "    for inputs, _ in itr:\n",
        "        inputs = inputs.to(device)\n",
        "        outputs = model(inputs)\n",
        "        _, preds = torch.max(outputs, 1)\n",
        "        predicted.extend(preds.tolist())\n",
        "\n",
        "    cm = metrics.confusion_matrix(\n",
        "        y_true=labels,\n",
        "        y_pred=predicted,\n",
        "    )\n",
        "\n",
        "    plt.figure(figsize=(10,10))\n",
        "    sns.heatmap(cm, cmap='Blues', annot=True, cbar=False, fmt=\".0f\",)\n",
        "    plt.xlabel('Predicted Label', labelpad=20)\n",
        "    plt.ylabel('True Label', labelpad=20)\n",
        "    plt.title('Confusion Matrix', fontsize=30)\n",
        "\n",
        "    recall = metrics.recall_score(y_true=labels, y_pred=predicted, average='macro')\n",
        "    f1 = metrics.f1_score(y_true=labels, y_pred=predicted, average='macro')\n",
        "    precision = metrics.precision_score(y_true=labels, y_pred=predicted, average='macro')\n",
        "    report = metrics.classification_report(y_true=labels, y_pred=predicted)\n",
        "\n",
        "    return {'recall': recall, 'f1': f1, 'precision': precision, 'report': report}\n"
      ]
    },
    {
      "cell_type": "markdown",
      "id": "1566b2a8428318c8",
      "metadata": {
        "collapsed": false,
        "id": "1566b2a8428318c8"
      },
      "source": [
        "## Model's Network"
      ]
    },
    {
      "cell_type": "code",
      "execution_count": 22,
      "id": "a2ed27ccf8d0307c",
      "metadata": {
        "id": "a2ed27ccf8d0307c"
      },
      "outputs": [],
      "source": [
        "class CNN(nn.Module):\n",
        "    def __init__(self, input_size, num_classes): \n",
        "        super(CNN, self).__init__()\n",
        "\n",
        "        # Layer 1\n",
        "        self.L1_conv1 = nn.Conv1d(in_channels=input_size, out_channels=64, kernel_size=3, padding=1)\n",
        "        self.L1_conv2 = nn.Conv1d(in_channels=input_size, out_channels=64, kernel_size=5, padding=2)\n",
        "        self.L1_conv3 = nn.Conv1d(in_channels=input_size, out_channels=64, kernel_size=7, padding=3)\n",
        "        # Layer 2\n",
        "        self.L2_conv1 = nn.Conv1d(in_channels=64, out_channels=128, kernel_size=3, padding=1)\n",
        "        self.L2_conv2 = nn.Conv1d(in_channels=64, out_channels=128, kernel_size=5, padding=2)\n",
        "        self.L2_conv3 = nn.Conv1d(in_channels=64, out_channels=128, kernel_size=7, padding=3)\n",
        "        \n",
        "        # Max Pooling\n",
        "        self.max_pool = nn.MaxPool1d(kernel_size=64)\n",
        "        \n",
        "        # Layer 3\n",
        "        self.flatten = nn.Flatten()\n",
        "        \n",
        "        # Layer 5-6 (Fully connected layers) \n",
        "        self.FC1 = nn.Linear(in_features=3 * 128, out_features=128)\n",
        "        self.FC2 = nn.Linear(in_features=128, out_features=num_classes)\n",
        "        \n",
        "        # Activation function\n",
        "        self.relu = nn.ReLU()\n",
        "\n",
        "    def forward(self, x):\n",
        "        x = x.permute(0, 2, 1)\n",
        "\n",
        "        # Layer 1\n",
        "        x1 = self.relu(self.L1_conv1(x))\n",
        "        x2 = self.relu(self.L1_conv2(x))\n",
        "        x3 = self.relu(self.L1_conv3(x))\n",
        "        \n",
        "        # Layer 2\n",
        "        x1 = self.relu(self.L2_conv1(x1))\n",
        "        x2 = self.relu(self.L2_conv2(x2))\n",
        "        x3 = self.relu(self.L2_conv3(x3))\n",
        "\n",
        "        # Layer 3\n",
        "        x1 = self.max_pool(x1)\n",
        "        x2 = self.max_pool(x2)\n",
        "        x3 = self.max_pool(x3)\n",
        "        \n",
        "        # Concatenate the outputs of the second layer\n",
        "        x = torch.cat([x1, x2, x3], dim=1)\n",
        "        # Flatten\n",
        "        x = self.flatten(x)\n",
        "\n",
        "        # Fully connected layers\n",
        "        x = self.relu(self.FC1(x))\n",
        "        x = self.FC2(x)\n",
        "        \n",
        "        return x\n"
      ]
    },
    {
      "cell_type": "markdown",
      "id": "-XhOZ_qwF6Bh",
      "metadata": {
        "id": "-XhOZ_qwF6Bh"
      },
      "source": [
        "## Training"
      ]
    },
    {
      "cell_type": "code",
      "execution_count": 23,
      "id": "76d30ba6554b6c48",
      "metadata": {
        "id": "76d30ba6554b6c48"
      },
      "outputs": [],
      "source": [
        "cnn_model = CNN(input_size=300, num_classes=2).to(DEVICE)"
      ]
    },
    {
      "cell_type": "markdown",
      "id": "cb79e4d9",
      "metadata": {},
      "source": [
        "### Adam  Optimizer\n",
        "\n",
        "- __*How Adam Optimizer Works :*__\n",
        "    1. __Initialization :__ Adam maintains two moving averages for each parameter: the first moment (mean) and the second moment (uncentered variance). These are initialized to zero.\n",
        "    2. __Parameter Updates :__\n",
        "        - Compute Gradients: Calculate the gradient of the loss function with respect to the parameters.\n",
        "        - Update Moving Averages :\n",
        "            - First Moment (m): Update the moving average of the gradients (mean).\n",
        "            $$m_t = \\beta_1 \\cdot m_{t-1} + (1 - \\beta_1) \\cdot g_t$$\n",
        "            - Second Moment (v): Update the moving average of the squared gradients (variance).\n",
        "            $$v_t = \\beta_2 \\cdot v_{t-1} + (1 - \\beta_2) \\cdot g_t^2$$\n",
        "        - Bias Correction: Correct the bias in the estimates of the first and second moments.\n",
        "        $$\\hat{m}_t = \\frac{m_t}{1 - \\beta_1^t}, \\quad \\hat{v}_t = \\frac{v_t}{1 - \\beta_2^t}$$\n",
        "        - Parameter Update: Update the parameters using the corrected moments.\n",
        "        $$\\theta_t = \\theta_{t-1} - \\alpha \\cdot \\frac{\\hat{m}_t}{\\sqrt{\\hat{v}_t} + \\epsilon}$$\n",
        "\n",
        "\n",
        "- **Adam**:\n",
        "  - **Advantages**:\n",
        "    - Adapts the learning rate based on the data, often leading to __faster convergence__.\n",
        "    - Requires less tuning of the learning rate.\n",
        "    - Effective for problems with __noisy__ or sparse gradients.\n",
        "  - **Disadvantages**:\n",
        "    - More computationally __expensive__ per iteration compared to plain SGD.\n",
        "    - May sometimes result in __suboptimal generalization__ compared to simpler methods like SGD.\n",
        "\n",
        "- **SGD**:\n",
        "  - **Advantages**:\n",
        "    - __Simpler__ to implement and computationally efficient.\n",
        "    - Often leads to better generalization on some problems, especially when used with momentum.\n",
        "  - **Disadvantages**:\n",
        "    - Requires careful __tuning__ of the learning rate and possibly a learning rate schedule.\n",
        "    - May __converge slowly__ if the learning rate is not well-tuned.\n",
        "\n",
        "\n",
        "\n",
        "\n",
        "\n"
      ]
    },
    {
      "cell_type": "markdown",
      "id": "3ef79f76",
      "metadata": {},
      "source": [
        "### Cross Entropy \n",
        "\n",
        "Cross-entropy loss function, also known as __log loss__, is commonly used in classification tasks, especially when dealing with multiple classes. It measures the difference between two probability distributions: the predicted probability distribution and the actual (true) probability distribution of the labels.\n",
        "$$\\text{CrossEntropy}(y, \\hat{y}) = -\\sum_{i} y_i \\cdot \\log(\\hat{y}_i)$$\n",
        "\n",
        "__Focuses on Correct Classifications :__ The loss is higher when the model makes wrong predictions, especially for highly confident (close to 1 or 0) incorrect classifications. This steers the model towards learning to assign higher probabilities to the correct sentiment."
      ]
    },
    {
      "cell_type": "code",
      "execution_count": 24,
      "id": "a57ddcb0836683ec",
      "metadata": {
        "id": "a57ddcb0836683ec"
      },
      "outputs": [
        {
          "name": "stderr",
          "output_type": "stream",
          "text": [
            "(Training) Epoch [1/10]: 100%|███████████████████████████████████████████████████████████████████████████████████████████████████████████████████| 214/214 [00:09<00:00, 22.89it/s]\n",
            "(Eval): 100%|██████████████████████████████████████████████████████████████████████████████████████████████████████████| 71/71 [00:01<00:00, 48.34it/s, accuracy=0.896, loss=0.236]\n"
          ]
        },
        {
          "name": "stdout",
          "output_type": "stream",
          "text": [
            "Epoch 1/10:\n",
            "Train Loss: 39.50%, Train Acc: 81.93%\n",
            "Valid Loss: 28.56%, Valid Acc: 89.57% \n",
            "\n"
          ]
        },
        {
          "name": "stderr",
          "output_type": "stream",
          "text": [
            "(Training) Epoch [2/10]: 100%|███████████████████████████████████████████████████████████████████████████████████████████████████████████████████| 214/214 [00:12<00:00, 16.59it/s]\n",
            "(Eval): 100%|██████████████████████████████████████████████████████████████████████████████████████████████████████████| 71/71 [00:01<00:00, 49.72it/s, accuracy=0.884, loss=0.274]\n"
          ]
        },
        {
          "name": "stdout",
          "output_type": "stream",
          "text": [
            "Epoch 2/10:\n",
            "Train Loss: 25.60%, Train Acc: 89.85%\n",
            "Valid Loss: 29.51%, Valid Acc: 88.38% \n",
            "\n"
          ]
        },
        {
          "name": "stderr",
          "output_type": "stream",
          "text": [
            "(Training) Epoch [3/10]: 100%|███████████████████████████████████████████████████████████████████████████████████████████████████████████████████| 214/214 [00:14<00:00, 14.93it/s]\n",
            "(Eval): 100%|██████████████████████████████████████████████████████████████████████████████████████████████████████████| 71/71 [00:01<00:00, 49.66it/s, accuracy=0.871, loss=0.312]\n"
          ]
        },
        {
          "name": "stdout",
          "output_type": "stream",
          "text": [
            "Epoch 3/10:\n",
            "Train Loss: 24.22%, Train Acc: 90.52%\n",
            "Valid Loss: 30.27%, Valid Acc: 87.10% \n",
            "\n"
          ]
        },
        {
          "name": "stderr",
          "output_type": "stream",
          "text": [
            "(Training) Epoch [4/10]: 100%|███████████████████████████████████████████████████████████████████████████████████████████████████████████████████| 214/214 [00:12<00:00, 16.49it/s]\n",
            "(Eval): 100%|██████████████████████████████████████████████████████████████████████████████████████████████████████████| 71/71 [00:03<00:00, 22.09it/s, accuracy=0.902, loss=0.209]\n"
          ]
        },
        {
          "name": "stdout",
          "output_type": "stream",
          "text": [
            "Epoch 4/10:\n",
            "Train Loss: 23.81%, Train Acc: 90.24%\n",
            "Valid Loss: 24.77%, Valid Acc: 90.18% \n",
            "\n"
          ]
        },
        {
          "name": "stderr",
          "output_type": "stream",
          "text": [
            "(Training) Epoch [5/10]: 100%|███████████████████████████████████████████████████████████████████████████████████████████████████████████████████| 214/214 [00:12<00:00, 17.14it/s]\n",
            "(Eval): 100%|███████████████████████████████████████████████████████████████████████████████████████████████████████████| 71/71 [00:01<00:00, 45.59it/s, accuracy=0.899, loss=0.21]\n"
          ]
        },
        {
          "name": "stdout",
          "output_type": "stream",
          "text": [
            "Epoch 5/10:\n",
            "Train Loss: 19.75%, Train Acc: 92.03%\n",
            "Valid Loss: 24.57%, Valid Acc: 89.88% \n",
            "\n"
          ]
        },
        {
          "name": "stderr",
          "output_type": "stream",
          "text": [
            "(Training) Epoch [6/10]: 100%|███████████████████████████████████████████████████████████████████████████████████████████████████████████████████| 214/214 [00:13<00:00, 15.84it/s]\n",
            "(Eval): 100%|██████████████████████████████████████████████████████████████████████████████████████████████████████████| 71/71 [00:01<00:00, 52.10it/s, accuracy=0.904, loss=0.216]\n"
          ]
        },
        {
          "name": "stdout",
          "output_type": "stream",
          "text": [
            "Epoch 6/10:\n",
            "Train Loss: 18.65%, Train Acc: 92.52%\n",
            "Valid Loss: 23.72%, Valid Acc: 90.36% \n",
            "\n"
          ]
        },
        {
          "name": "stderr",
          "output_type": "stream",
          "text": [
            "(Training) Epoch [7/10]: 100%|███████████████████████████████████████████████████████████████████████████████████████████████████████████████████| 214/214 [00:13<00:00, 15.78it/s]\n",
            "(Eval): 100%|██████████████████████████████████████████████████████████████████████████████████████████████████████████| 71/71 [00:01<00:00, 50.80it/s, accuracy=0.894, loss=0.258]\n"
          ]
        },
        {
          "name": "stdout",
          "output_type": "stream",
          "text": [
            "Epoch 7/10:\n",
            "Train Loss: 16.78%, Train Acc: 93.30%\n",
            "Valid Loss: 24.85%, Valid Acc: 89.44% \n",
            "\n"
          ]
        },
        {
          "name": "stderr",
          "output_type": "stream",
          "text": [
            "(Training) Epoch [8/10]: 100%|███████████████████████████████████████████████████████████████████████████████████████████████████████████████████| 214/214 [00:12<00:00, 17.12it/s]\n",
            "(Eval): 100%|██████████████████████████████████████████████████████████████████████████████████████████████████████████| 71/71 [00:02<00:00, 29.33it/s, accuracy=0.899, loss=0.215]\n"
          ]
        },
        {
          "name": "stdout",
          "output_type": "stream",
          "text": [
            "Epoch 8/10:\n",
            "Train Loss: 15.79%, Train Acc: 94.01%\n",
            "Valid Loss: 24.18%, Valid Acc: 89.92% \n",
            "\n"
          ]
        },
        {
          "name": "stderr",
          "output_type": "stream",
          "text": [
            "(Training) Epoch [9/10]: 100%|███████████████████████████████████████████████████████████████████████████████████████████████████████████████████| 214/214 [00:12<00:00, 16.90it/s]\n",
            "(Eval): 100%|███████████████████████████████████████████████████████████████████████████████████████████████████████████| 71/71 [00:01<00:00, 56.92it/s, accuracy=0.901, loss=0.22]\n"
          ]
        },
        {
          "name": "stdout",
          "output_type": "stream",
          "text": [
            "Epoch 9/10:\n",
            "Train Loss: 13.78%, Train Acc: 94.92%\n",
            "Valid Loss: 23.91%, Valid Acc: 90.05% \n",
            "\n"
          ]
        },
        {
          "name": "stderr",
          "output_type": "stream",
          "text": [
            "(Training) Epoch [10/10]: 100%|██████████████████████████████████████████████████████████████████████████████████████████████████████████████████| 214/214 [00:13<00:00, 15.98it/s]\n",
            "(Eval): 100%|██████████████████████████████████████████████████████████████████████████████████████████████████████████| 71/71 [00:01<00:00, 49.64it/s, accuracy=0.899, loss=0.278]"
          ]
        },
        {
          "name": "stdout",
          "output_type": "stream",
          "text": [
            "Epoch 10/10:\n",
            "Train Loss: 13.31%, Train Acc: 94.81%\n",
            "Valid Loss: 26.38%, Valid Acc: 89.88% \n",
            "\n"
          ]
        },
        {
          "name": "stderr",
          "output_type": "stream",
          "text": [
            "\n"
          ]
        }
      ],
      "source": [
        "cnn_model_train_history = train_model(\n",
        "    model= cnn_model,\n",
        "    batch_size = BATCH_SIZE,\n",
        "    loss_function = nn.CrossEntropyLoss(),\n",
        "    optimizer = torch.optim.Adam(cnn_model.parameters(), lr=LEARNING_RATE, weight_decay=WEIGHT_DECAY),\n",
        "    epochs = EPOCHS,\n",
        "    train_set = train_dataset,\n",
        "    valid_set = valid_dataset,\n",
        "    device = DEVICE\n",
        ")"
      ]
    },
    {
      "cell_type": "code",
      "execution_count": 25,
      "id": "ac375ced89f224ce",
      "metadata": {
        "id": "ac375ced89f224ce"
      },
      "outputs": [
        {
          "data": {
            "image/png": "[encoded data removed]",
            "text/plain": [
              "<Figure size 1000x500 with 2 Axes>"
            ]
          },
          "metadata": {},
          "output_type": "display_data"
        }
      ],
      "source": [
        "trend_plot_helper(\n",
        "    {\n",
        "        \"Accuracy - Epoch\": [\n",
        "            (\"Train Acc\", cnn_model_train_history[\"train_acc\"]),\n",
        "            (\"Validation Acc\", cnn_model_train_history[\"valid_acc\"]),\n",
        "        ],\n",
        "        \"Loss - Epoch\": [\n",
        "            (\"Train Loss\", cnn_model_train_history[\"train_loss\"]),\n",
        "            (\"Validation Loss\", cnn_model_train_history[\"valid_loss\"])\n",
        "        ]\n",
        "    }\n",
        ")"
      ]
    },
    {
      "cell_type": "code",
      "execution_count": 26,
      "id": "a09473d5783fa70f",
      "metadata": {
        "id": "a09473d5783fa70f"
      },
      "outputs": [
        {
          "name": "stderr",
          "output_type": "stream",
          "text": [
            "                                                                                                                                                                                   \r"
          ]
        },
        {
          "data": {
            "image/png": "[encoded data removed]",
            "text/plain": [
              "<Figure size 1000x1000 with 1 Axes>"
            ]
          },
          "metadata": {},
          "output_type": "display_data"
        }
      ],
      "source": [
        "cnn_model_report = generate_confusion_matrix(\n",
        "    model=cnn_model,\n",
        "    dataset=valid_dataset\n",
        ")"
      ]
    },
    {
      "cell_type": "code",
      "execution_count": 27,
      "id": "8ee01e4607601dd8",
      "metadata": {
        "id": "8ee01e4607601dd8"
      },
      "outputs": [
        {
          "name": "stdout",
          "output_type": "stream",
          "text": [
            "Recall:    0.891\n",
            "F1:        0.895\n",
            "Precision: 0.904\n",
            "              precision    recall  f1-score   support\n",
            "\n",
            "           0       0.88      0.95      0.91      1288\n",
            "           1       0.93      0.83      0.88       984\n",
            "\n",
            "    accuracy                           0.90      2272\n",
            "   macro avg       0.90      0.89      0.90      2272\n",
            "weighted avg       0.90      0.90      0.90      2272\n",
            "\n"
          ]
        }
      ],
      "source": [
        "print(f\"Recall:    {cnn_model_report['recall']:.3f}\")\n",
        "print(f\"F1:        {cnn_model_report['f1']:.3f}\")\n",
        "print(f\"Precision: {cnn_model_report['precision']:.3f}\")\n",
        "print(cnn_model_report['report'])"
      ]
    },
    {
      "cell_type": "markdown",
      "id": "2edafd4c",
      "metadata": {},
      "source": [
        "## Biger Batch Size?"
      ]
    },
    {
      "cell_type": "code",
      "execution_count": 28,
      "id": "f4952304",
      "metadata": {},
      "outputs": [
        {
          "name": "stderr",
          "output_type": "stream",
          "text": [
            "(Training) Epoch [1/10]: 100%|███████████████████████████████████████████████████████████████████████████████████████████████████████████████████| 107/107 [00:07<00:00, 14.55it/s]\n",
            "(Eval): 100%|███████████████████████████████████████████████████████████████████████████████████████████████████████████| 36/36 [00:02<00:00, 17.65it/s, accuracy=0.86, loss=0.294]\n"
          ]
        },
        {
          "name": "stdout",
          "output_type": "stream",
          "text": [
            "Epoch 1/10:\n",
            "Train Loss: 41.75%, Train Acc: 81.63%\n",
            "Valid Loss: 35.11%, Valid Acc: 86.00% \n",
            "\n"
          ]
        },
        {
          "name": "stderr",
          "output_type": "stream",
          "text": [
            "(Training) Epoch [2/10]: 100%|███████████████████████████████████████████████████████████████████████████████████████████████████████████████████| 107/107 [00:10<00:00,  9.81it/s]\n",
            "(Eval): 100%|██████████████████████████████████████████████████████████████████████████████████████████████████████████| 36/36 [00:01<00:00, 28.27it/s, accuracy=0.861, loss=0.316]\n"
          ]
        },
        {
          "name": "stdout",
          "output_type": "stream",
          "text": [
            "Epoch 2/10:\n",
            "Train Loss: 32.69%, Train Acc: 86.77%\n",
            "Valid Loss: 33.82%, Valid Acc: 86.14% \n",
            "\n"
          ]
        },
        {
          "name": "stderr",
          "output_type": "stream",
          "text": [
            "(Training) Epoch [3/10]: 100%|███████████████████████████████████████████████████████████████████████████████████████████████████████████████████| 107/107 [00:11<00:00,  9.25it/s]\n",
            "(Eval): 100%|██████████████████████████████████████████████████████████████████████████████████████████████████████████| 36/36 [00:01<00:00, 28.28it/s, accuracy=0.847, loss=0.245]\n"
          ]
        },
        {
          "name": "stdout",
          "output_type": "stream",
          "text": [
            "Epoch 3/10:\n",
            "Train Loss: 32.57%, Train Acc: 86.81%\n",
            "Valid Loss: 37.02%, Valid Acc: 84.73% \n",
            "\n"
          ]
        },
        {
          "name": "stderr",
          "output_type": "stream",
          "text": [
            "(Training) Epoch [4/10]: 100%|███████████████████████████████████████████████████████████████████████████████████████████████████████████████████| 107/107 [00:11<00:00,  8.98it/s]\n",
            "(Eval): 100%|██████████████████████████████████████████████████████████████████████████████████████████████████████████| 36/36 [00:02<00:00, 12.14it/s, accuracy=0.868, loss=0.286]\n"
          ]
        },
        {
          "name": "stdout",
          "output_type": "stream",
          "text": [
            "Epoch 4/10:\n",
            "Train Loss: 36.19%, Train Acc: 85.51%\n",
            "Valid Loss: 33.82%, Valid Acc: 86.80% \n",
            "\n"
          ]
        },
        {
          "name": "stderr",
          "output_type": "stream",
          "text": [
            "(Training) Epoch [5/10]: 100%|███████████████████████████████████████████████████████████████████████████████████████████████████████████████████| 107/107 [00:10<00:00,  9.83it/s]\n",
            "(Eval): 100%|██████████████████████████████████████████████████████████████████████████████████████████████████████████| 36/36 [00:01<00:00, 30.36it/s, accuracy=0.868, loss=0.364]\n"
          ]
        },
        {
          "name": "stdout",
          "output_type": "stream",
          "text": [
            "Epoch 5/10:\n",
            "Train Loss: 32.87%, Train Acc: 86.31%\n",
            "Valid Loss: 32.41%, Valid Acc: 86.84% \n",
            "\n"
          ]
        },
        {
          "name": "stderr",
          "output_type": "stream",
          "text": [
            "(Training) Epoch [6/10]: 100%|███████████████████████████████████████████████████████████████████████████████████████████████████████████████████| 107/107 [00:11<00:00,  9.36it/s]\n",
            "(Eval): 100%|██████████████████████████████████████████████████████████████████████████████████████████████████████████| 36/36 [00:01<00:00, 27.23it/s, accuracy=0.884, loss=0.231]\n"
          ]
        },
        {
          "name": "stdout",
          "output_type": "stream",
          "text": [
            "Epoch 6/10:\n",
            "Train Loss: 32.22%, Train Acc: 87.00%\n",
            "Valid Loss: 30.31%, Valid Acc: 88.42% \n",
            "\n"
          ]
        },
        {
          "name": "stderr",
          "output_type": "stream",
          "text": [
            "(Training) Epoch [7/10]: 100%|███████████████████████████████████████████████████████████████████████████████████████████████████████████████████| 107/107 [00:12<00:00,  8.50it/s]\n",
            "(Eval): 100%|██████████████████████████████████████████████████████████████████████████████████████████████████████████| 36/36 [00:01<00:00, 31.64it/s, accuracy=0.773, loss=0.448]\n"
          ]
        },
        {
          "name": "stdout",
          "output_type": "stream",
          "text": [
            "Epoch 7/10:\n",
            "Train Loss: 32.15%, Train Acc: 86.74%\n",
            "Valid Loss: 49.21%, Valid Acc: 77.33% \n",
            "\n"
          ]
        },
        {
          "name": "stderr",
          "output_type": "stream",
          "text": [
            "(Training) Epoch [8/10]: 100%|███████████████████████████████████████████████████████████████████████████████████████████████████████████████████| 107/107 [00:11<00:00,  9.23it/s]\n",
            "(Eval): 100%|██████████████████████████████████████████████████████████████████████████████████████████████████████████| 36/36 [00:01<00:00, 27.76it/s, accuracy=0.871, loss=0.281]\n"
          ]
        },
        {
          "name": "stdout",
          "output_type": "stream",
          "text": [
            "Epoch 8/10:\n",
            "Train Loss: 31.99%, Train Acc: 87.36%\n",
            "Valid Loss: 32.33%, Valid Acc: 87.10% \n",
            "\n"
          ]
        },
        {
          "name": "stderr",
          "output_type": "stream",
          "text": [
            "(Training) Epoch [9/10]: 100%|███████████████████████████████████████████████████████████████████████████████████████████████████████████████████| 107/107 [00:12<00:00,  8.37it/s]\n",
            "(Eval): 100%|██████████████████████████████████████████████████████████████████████████████████████████████████████████| 36/36 [00:01<00:00, 28.74it/s, accuracy=0.868, loss=0.221]\n"
          ]
        },
        {
          "name": "stdout",
          "output_type": "stream",
          "text": [
            "Epoch 9/10:\n",
            "Train Loss: 29.86%, Train Acc: 87.62%\n",
            "Valid Loss: 31.03%, Valid Acc: 86.84% \n",
            "\n"
          ]
        },
        {
          "name": "stderr",
          "output_type": "stream",
          "text": [
            "(Training) Epoch [10/10]: 100%|██████████████████████████████████████████████████████████████████████████████████████████████████████████████████| 107/107 [00:11<00:00,  9.52it/s]\n",
            "(Eval): 100%|██████████████████████████████████████████████████████████████████████████████████████████████████████████| 36/36 [00:02<00:00, 16.54it/s, accuracy=0.884, loss=0.253]"
          ]
        },
        {
          "name": "stdout",
          "output_type": "stream",
          "text": [
            "Epoch 10/10:\n",
            "Train Loss: 28.70%, Train Acc: 88.19%\n",
            "Valid Loss: 28.04%, Valid Acc: 88.42% \n",
            "\n"
          ]
        },
        {
          "name": "stderr",
          "output_type": "stream",
          "text": [
            "\n"
          ]
        }
      ],
      "source": [
        "BATCH_SIZE = 64\n",
        "LEARNING_RATE = 2e-2\n",
        "\n",
        "cnn_model_bigger_batch = CNN(input_size=300, num_classes=2).to(DEVICE)\n",
        "\n",
        "cnn_model_train_history_bigger_batch = train_model(\n",
        "    model= cnn_model_bigger_batch,\n",
        "    batch_size = BATCH_SIZE,\n",
        "    loss_function = nn.CrossEntropyLoss(),\n",
        "    optimizer = torch.optim.Adam(cnn_model_bigger_batch.parameters(), lr=LEARNING_RATE, weight_decay=WEIGHT_DECAY),\n",
        "    epochs = EPOCHS,\n",
        "    train_set = train_dataset,\n",
        "    valid_set = valid_dataset,\n",
        "    device = DEVICE\n",
        ")"
      ]
    },
    {
      "cell_type": "code",
      "execution_count": 29,
      "id": "23ca2fdc",
      "metadata": {},
      "outputs": [
        {
          "name": "stderr",
          "output_type": "stream",
          "text": [
            "                                                                                                                                                                                   \r"
          ]
        },
        {
          "name": "stdout",
          "output_type": "stream",
          "text": [
            "Recall:    0.881\n",
            "F1:        0.882\n",
            "Precision: 0.883\n",
            "              precision    recall  f1-score   support\n",
            "\n",
            "           0       0.89      0.90      0.90      1288\n",
            "           1       0.87      0.86      0.87       984\n",
            "\n",
            "    accuracy                           0.88      2272\n",
            "   macro avg       0.88      0.88      0.88      2272\n",
            "weighted avg       0.88      0.88      0.88      2272\n",
            "\n"
          ]
        },
        {
          "data": {
            "image/png": "[encoded data removed]",
            "text/plain": [
              "<Figure size 1000x500 with 2 Axes>"
            ]
          },
          "metadata": {},
          "output_type": "display_data"
        },
        {
          "data": {
            "image/png": "[encoded data removed]",
            "text/plain": [
              "<Figure size 1000x1000 with 1 Axes>"
            ]
          },
          "metadata": {},
          "output_type": "display_data"
        }
      ],
      "source": [
        "trend_plot_helper(\n",
        "    {\n",
        "        \"Accuracy - Epoch\": [\n",
        "            (\"Train Acc\", cnn_model_train_history_bigger_batch[\"train_acc\"]),\n",
        "            (\"Validation Acc\", cnn_model_train_history_bigger_batch[\"valid_acc\"]),\n",
        "        ],\n",
        "        \"Loss - Epoch\": [\n",
        "            (\"Train Loss\", cnn_model_train_history_bigger_batch[\"train_loss\"]),\n",
        "            (\"Validation Loss\", cnn_model_train_history_bigger_batch[\"valid_loss\"])\n",
        "        ]\n",
        "    }\n",
        ")\n",
        "\n",
        "cnn_model_report_bigger_batch = generate_confusion_matrix(\n",
        "    model=cnn_model_bigger_batch,\n",
        "    dataset=valid_dataset\n",
        ")\n",
        "\n",
        "print(f\"Recall:    {cnn_model_report_bigger_batch['recall']:.3f}\")\n",
        "print(f\"F1:        {cnn_model_report_bigger_batch['f1']:.3f}\")\n",
        "print(f\"Precision: {cnn_model_report_bigger_batch['precision']:.3f}\")\n",
        "print(cnn_model_report_bigger_batch['report'])"
      ]
    },
    {
      "cell_type": "markdown",
      "id": "c5fa080e",
      "metadata": {},
      "source": [
        "## Effect of Context Window Size\n",
        "\n",
        "- __*Advantages :*__\n",
        "    - Capture More Sentiment-Bearing Information\n",
        "    - Improve Context Understanding\n",
        "- __*Disadvantages :*__\n",
        "    - Increased Computational Cost\n",
        "    - Risk of Capturing Irrelevant Information\n",
        "    - Too much information can make it harder for the model to identify the most relevant parts"
      ]
    },
    {
      "cell_type": "code",
      "execution_count": 30,
      "id": "5842c66f",
      "metadata": {},
      "outputs": [
        {
          "name": "stdout",
          "output_type": "stream",
          "text": [
            "Deleted 0-Len Samples: 23\n",
            "Deleted 0-Len Samples: 7\n",
            "Train dataset length: 6817\n",
            "Valid dataset length: 2272\n"
          ]
        }
      ],
      "source": [
        "SEQUENCE_LEN = 192\n",
        "\n",
        "train_dataset_bigger_context = Twitter(CSV_DATA_TRAIN, w2v_model, SEQUENCE_LEN)\n",
        "valid_dataset_bigger_context = Twitter(CSV_DATA_TEST, w2v_model, SEQUENCE_LEN)\n",
        "\n",
        "print(f\"Train dataset length: {len(train_dataset)}\")\n",
        "print(f\"Valid dataset length: {len(valid_dataset)}\")"
      ]
    },
    {
      "cell_type": "code",
      "execution_count": 31,
      "id": "dbadc70f",
      "metadata": {},
      "outputs": [
        {
          "name": "stderr",
          "output_type": "stream",
          "text": [
            "(Training) Epoch [1/10]: 100%|███████████████████████████████████████████████████████████████████████████████████████████████████████████████████| 214/214 [00:11<00:00, 18.07it/s]\n",
            "(Eval): 100%|███████████████████████████████████████████████████████████████████████████████████████████████████████████| 71/71 [00:01<00:00, 49.60it/s, accuracy=0.87, loss=0.283]\n"
          ]
        },
        {
          "name": "stdout",
          "output_type": "stream",
          "text": [
            "Epoch 1/10:\n",
            "Train Loss: 39.85%, Train Acc: 83.83%\n",
            "Valid Loss: 32.68%, Valid Acc: 87.02% \n",
            "\n"
          ]
        },
        {
          "name": "stderr",
          "output_type": "stream",
          "text": [
            "(Training) Epoch [2/10]: 100%|███████████████████████████████████████████████████████████████████████████████████████████████████████████████████| 214/214 [00:13<00:00, 15.31it/s]\n",
            "(Eval): 100%|██████████████████████████████████████████████████████████████████████████████████████████████████████████| 71/71 [00:01<00:00, 43.15it/s, accuracy=0.893, loss=0.246]\n"
          ]
        },
        {
          "name": "stdout",
          "output_type": "stream",
          "text": [
            "Epoch 2/10:\n",
            "Train Loss: 27.33%, Train Acc: 89.09%\n",
            "Valid Loss: 28.22%, Valid Acc: 89.35% \n",
            "\n"
          ]
        },
        {
          "name": "stderr",
          "output_type": "stream",
          "text": [
            "(Training) Epoch [3/10]: 100%|███████████████████████████████████████████████████████████████████████████████████████████████████████████████████| 214/214 [00:14<00:00, 14.31it/s]\n",
            "(Eval): 100%|██████████████████████████████████████████████████████████████████████████████████████████████████████████| 71/71 [00:01<00:00, 46.46it/s, accuracy=0.888, loss=0.288]\n"
          ]
        },
        {
          "name": "stdout",
          "output_type": "stream",
          "text": [
            "Epoch 3/10:\n",
            "Train Loss: 23.88%, Train Acc: 90.42%\n",
            "Valid Loss: 27.86%, Valid Acc: 88.82% \n",
            "\n"
          ]
        },
        {
          "name": "stderr",
          "output_type": "stream",
          "text": [
            "(Training) Epoch [4/10]: 100%|███████████████████████████████████████████████████████████████████████████████████████████████████████████████████| 214/214 [00:13<00:00, 15.87it/s]\n",
            "(Eval): 100%|████████████████████████████████████████████████████████████████████████████████████████████████████████████| 71/71 [00:02<00:00, 26.14it/s, accuracy=0.9, loss=0.259]\n"
          ]
        },
        {
          "name": "stdout",
          "output_type": "stream",
          "text": [
            "Epoch 4/10:\n",
            "Train Loss: 22.37%, Train Acc: 91.05%\n",
            "Valid Loss: 25.36%, Valid Acc: 90.01% \n",
            "\n"
          ]
        },
        {
          "name": "stderr",
          "output_type": "stream",
          "text": [
            "(Training) Epoch [5/10]: 100%|███████████████████████████████████████████████████████████████████████████████████████████████████████████████████| 214/214 [00:12<00:00, 16.90it/s]\n",
            "(Eval): 100%|██████████████████████████████████████████████████████████████████████████████████████████████████████████| 71/71 [00:02<00:00, 30.39it/s, accuracy=0.894, loss=0.233]\n"
          ]
        },
        {
          "name": "stdout",
          "output_type": "stream",
          "text": [
            "Epoch 5/10:\n",
            "Train Loss: 19.54%, Train Acc: 92.28%\n",
            "Valid Loss: 26.65%, Valid Acc: 89.39% \n",
            "\n"
          ]
        },
        {
          "name": "stderr",
          "output_type": "stream",
          "text": [
            "(Training) Epoch [6/10]: 100%|███████████████████████████████████████████████████████████████████████████████████████████████████████████████████| 214/214 [00:12<00:00, 17.25it/s]\n",
            "(Eval): 100%|██████████████████████████████████████████████████████████████████████████████████████████████████████████| 71/71 [00:02<00:00, 30.25it/s, accuracy=0.901, loss=0.228]\n"
          ]
        },
        {
          "name": "stdout",
          "output_type": "stream",
          "text": [
            "Epoch 6/10:\n",
            "Train Loss: 18.92%, Train Acc: 92.64%\n",
            "Valid Loss: 25.71%, Valid Acc: 90.14% \n",
            "\n"
          ]
        },
        {
          "name": "stderr",
          "output_type": "stream",
          "text": [
            "(Training) Epoch [7/10]: 100%|███████████████████████████████████████████████████████████████████████████████████████████████████████████████████| 214/214 [00:15<00:00, 13.70it/s]\n",
            "(Eval): 100%|███████████████████████████████████████████████████████████████████████████████████████████████████████████| 71/71 [00:03<00:00, 21.45it/s, accuracy=0.895, loss=0.24]\n"
          ]
        },
        {
          "name": "stdout",
          "output_type": "stream",
          "text": [
            "Epoch 7/10:\n",
            "Train Loss: 15.59%, Train Acc: 93.97%\n",
            "Valid Loss: 25.09%, Valid Acc: 89.52% \n",
            "\n"
          ]
        },
        {
          "name": "stderr",
          "output_type": "stream",
          "text": [
            "(Training) Epoch [8/10]: 100%|███████████████████████████████████████████████████████████████████████████████████████████████████████████████████| 214/214 [00:14<00:00, 14.85it/s]\n",
            "(Eval): 100%|███████████████████████████████████████████████████████████████████████████████████████████████████████████| 71/71 [00:01<00:00, 48.05it/s, accuracy=0.895, loss=0.21]\n"
          ]
        },
        {
          "name": "stdout",
          "output_type": "stream",
          "text": [
            "Epoch 8/10:\n",
            "Train Loss: 14.46%, Train Acc: 94.84%\n",
            "Valid Loss: 25.73%, Valid Acc: 89.52% \n",
            "\n"
          ]
        },
        {
          "name": "stderr",
          "output_type": "stream",
          "text": [
            "(Training) Epoch [9/10]: 100%|███████████████████████████████████████████████████████████████████████████████████████████████████████████████████| 214/214 [00:16<00:00, 13.25it/s]\n",
            "(Eval): 100%|███████████████████████████████████████████████████████████████████████████████████████████████████████████| 71/71 [00:01<00:00, 44.20it/s, accuracy=0.899, loss=0.22]\n"
          ]
        },
        {
          "name": "stdout",
          "output_type": "stream",
          "text": [
            "Epoch 9/10:\n",
            "Train Loss: 12.51%, Train Acc: 95.60%\n",
            "Valid Loss: 25.68%, Valid Acc: 89.88% \n",
            "\n"
          ]
        },
        {
          "name": "stderr",
          "output_type": "stream",
          "text": [
            "(Training) Epoch [10/10]: 100%|██████████████████████████████████████████████████████████████████████████████████████████████████████████████████| 214/214 [00:15<00:00, 13.87it/s]\n",
            "(Eval): 100%|████████████████████████████████████████████████████████████████████████████████████████████████████████████| 71/71 [00:03<00:00, 21.88it/s, accuracy=0.9, loss=0.213]"
          ]
        },
        {
          "name": "stdout",
          "output_type": "stream",
          "text": [
            "Epoch 10/10:\n",
            "Train Loss: 10.98%, Train Acc: 96.39%\n",
            "Valid Loss: 26.02%, Valid Acc: 90.01% \n",
            "\n"
          ]
        },
        {
          "name": "stderr",
          "output_type": "stream",
          "text": [
            "\n"
          ]
        }
      ],
      "source": [
        "BATCH_SIZE = 32\n",
        "LEARNING_RATE = 4e-4\n",
        "\n",
        "cnn_model_bigger_context = CNN(input_size=300, num_classes=2).to(DEVICE)\n",
        "\n",
        "cnn_model_train_history_bigger_context = train_model(\n",
        "    model= cnn_model_bigger_context,\n",
        "    batch_size = BATCH_SIZE,\n",
        "    loss_function = nn.CrossEntropyLoss(),\n",
        "    optimizer = torch.optim.Adam(cnn_model_bigger_context.parameters(), lr=LEARNING_RATE, weight_decay=WEIGHT_DECAY),\n",
        "    epochs = EPOCHS,\n",
        "    train_set = train_dataset,\n",
        "    valid_set = valid_dataset,\n",
        "    device = DEVICE\n",
        ")"
      ]
    },
    {
      "cell_type": "code",
      "execution_count": 32,
      "id": "68f8937b",
      "metadata": {},
      "outputs": [
        {
          "data": {
            "image/png": "[encoded data removed]",
            "text/plain": [
              "<Figure size 1000x500 with 2 Axes>"
            ]
          },
          "metadata": {},
          "output_type": "display_data"
        }
      ],
      "source": [
        "trend_plot_helper(\n",
        "    {\n",
        "        \"Accuracy - Epoch\": [\n",
        "            (\"Train Acc 192-Context\", cnn_model_train_history_bigger_context[\"train_acc\"]),\n",
        "            (\"Validation Acc 192-Context\", cnn_model_train_history_bigger_context[\"valid_acc\"]),\n",
        "            (\"Train Acc 64-Context\", cnn_model_train_history[\"train_acc\"]),\n",
        "            (\"Validation Acc 64-Context\", cnn_model_train_history[\"valid_acc\"])\n",
        "        ],\n",
        "        \"Loss - Epoch\": [\n",
        "            (\"Train Loss 192-Context\", cnn_model_train_history_bigger_context[\"train_loss\"]),\n",
        "            (\"Validation Loss 192-Context\", cnn_model_train_history_bigger_context[\"valid_loss\"]),\n",
        "            (\"Train Loss 64-Context\", cnn_model_train_history[\"train_loss\"]),\n",
        "            (\"Validation Loss 64-Context\", cnn_model_train_history[\"valid_loss\"])\n",
        "        ]\n",
        "    }\n",
        ")"
      ]
    },
    {
      "cell_type": "markdown",
      "id": "0e0e5f01",
      "metadata": {},
      "source": [
        "## Regularization Methods"
      ]
    },
    {
      "cell_type": "code",
      "execution_count": 38,
      "id": "c8eb3e96",
      "metadata": {},
      "outputs": [],
      "source": [
        "class CNN_Regular(nn.Module):\n",
        "    def __init__(self, input_size, num_classes): \n",
        "        super(CNN_Regular, self).__init__()\n",
        "\n",
        "        # Layer 1\n",
        "        self.L1_conv1 = nn.Conv1d(in_channels=input_size, out_channels=64, kernel_size=3, padding=1)\n",
        "        self.L1_bn1 = nn.BatchNorm1d(64)\n",
        "        self.L1_conv2 = nn.Conv1d(in_channels=input_size, out_channels=64, kernel_size=5, padding=2)\n",
        "        self.L1_bn2 = nn.BatchNorm1d(64)\n",
        "        self.L1_conv3 = nn.Conv1d(in_channels=input_size, out_channels=64, kernel_size=7, padding=3)\n",
        "        self.L1_bn3 = nn.BatchNorm1d(64)\n",
        "\n",
        "        # Layer 2\n",
        "        self.L2_conv1 = nn.Conv1d(in_channels=64, out_channels=128, kernel_size=3, padding=1)\n",
        "        self.L2_bn1 = nn.BatchNorm1d(128)\n",
        "        self.L2_conv2 = nn.Conv1d(in_channels=64, out_channels=128, kernel_size=5, padding=2)\n",
        "        self.L2_bn2 = nn.BatchNorm1d(128)\n",
        "        self.L2_conv3 = nn.Conv1d(in_channels=64, out_channels=128, kernel_size=7, padding=3)\n",
        "        self.L2_bn3 = nn.BatchNorm1d(128)\n",
        "        \n",
        "        # Max Pooling\n",
        "        self.max_pool = nn.MaxPool1d(kernel_size=64)\n",
        "        \n",
        "        # Dropout\n",
        "        self.dropout = nn.Dropout(0.4)\n",
        "\n",
        "        # Layer 3\n",
        "        self.flatten = nn.Flatten()\n",
        "        \n",
        "        # Layer 5-6 (Fully connected layers) \n",
        "        self.FC1 = nn.Linear(in_features=3 * 128, out_features=128)\n",
        "        self.FC2 = nn.Linear(in_features=128, out_features=num_classes)\n",
        "        \n",
        "        # Activation function\n",
        "        self.relu = nn.ReLU()\n",
        "\n",
        "    def forward(self, x):\n",
        "        x = x.permute(0, 2, 1)\n",
        "\n",
        "        # Layer 1\n",
        "        x1 = self.relu(self.L1_bn1(self.L1_conv1(x)))\n",
        "        x2 = self.relu(self.L1_bn2(self.L1_conv2(x)))\n",
        "        x3 = self.relu(self.L1_bn3(self.L1_conv3(x)))\n",
        "        \n",
        "        # Layer 2\n",
        "        x1 = self.relu(self.L2_bn1(self.L2_conv1(x1)))\n",
        "        x2 = self.relu(self.L2_bn2(self.L2_conv2(x2)))\n",
        "        x3 = self.relu(self.L2_bn3(self.L2_conv3(x3)))\n",
        "\n",
        "        # Layer 3\n",
        "        x1 = self.max_pool(x1)\n",
        "        x2 = self.max_pool(x2)\n",
        "        x3 = self.max_pool(x3)\n",
        "        \n",
        "        # Concatenate the outputs of the second layer\n",
        "        x = torch.cat([x1, x2, x3], dim=1)\n",
        "\n",
        "        # Flatten\n",
        "        x = self.flatten(x)\n",
        "\n",
        "        # Apply Dropout\n",
        "        x = self.dropout(x)\n",
        "\n",
        "        # Fully connected layers\n",
        "        x = self.relu(self.FC1(x))\n",
        "        x = self.FC2(x)\n",
        "        \n",
        "        return x\n"
      ]
    },
    {
      "cell_type": "code",
      "execution_count": 39,
      "id": "67bad3ea",
      "metadata": {},
      "outputs": [
        {
          "name": "stderr",
          "output_type": "stream",
          "text": [
            "  0%|                                                                                                                                                      | 0/214 [00:00<?, ?it/s]"
          ]
        },
        {
          "name": "stderr",
          "output_type": "stream",
          "text": [
            "(Training) Epoch [1/10]: 100%|███████████████████████████████████████████████████████████████████████████████████████████████████████████████████| 214/214 [00:09<00:00, 22.85it/s]\n",
            "(Eval): 100%|██████████████████████████████████████████████████████████████████████████████████████████████████████████| 71/71 [00:01<00:00, 51.40it/s, accuracy=0.832, loss=0.396]\n"
          ]
        },
        {
          "name": "stdout",
          "output_type": "stream",
          "text": [
            "Epoch 1/10:\n",
            "Train Loss: 32.97%, Train Acc: 85.76%\n",
            "Valid Loss: 42.20%, Valid Acc: 83.19% \n",
            "\n"
          ]
        },
        {
          "name": "stderr",
          "output_type": "stream",
          "text": [
            "(Training) Epoch [2/10]: 100%|███████████████████████████████████████████████████████████████████████████████████████████████████████████████████| 214/214 [00:08<00:00, 24.38it/s]\n",
            "(Eval): 100%|██████████████████████████████████████████████████████████████████████████████████████████████████████████| 71/71 [00:01<00:00, 52.42it/s, accuracy=0.915, loss=0.212]\n"
          ]
        },
        {
          "name": "stdout",
          "output_type": "stream",
          "text": [
            "Epoch 2/10:\n",
            "Train Loss: 20.08%, Train Acc: 91.40%\n",
            "Valid Loss: 23.53%, Valid Acc: 91.55% \n",
            "\n"
          ]
        },
        {
          "name": "stderr",
          "output_type": "stream",
          "text": [
            "(Training) Epoch [3/10]: 100%|███████████████████████████████████████████████████████████████████████████████████████████████████████████████████| 214/214 [00:11<00:00, 18.43it/s]\n",
            "(Eval): 100%|██████████████████████████████████████████████████████████████████████████████████████████████████████████| 71/71 [00:01<00:00, 49.28it/s, accuracy=0.909, loss=0.192]\n"
          ]
        },
        {
          "name": "stdout",
          "output_type": "stream",
          "text": [
            "Epoch 3/10:\n",
            "Train Loss: 15.02%, Train Acc: 94.09%\n",
            "Valid Loss: 23.10%, Valid Acc: 90.89% \n",
            "\n"
          ]
        },
        {
          "name": "stderr",
          "output_type": "stream",
          "text": [
            "(Training) Epoch [4/10]: 100%|███████████████████████████████████████████████████████████████████████████████████████████████████████████████████| 214/214 [00:14<00:00, 14.45it/s]\n",
            "(Eval): 100%|██████████████████████████████████████████████████████████████████████████████████████████████████████████| 71/71 [00:03<00:00, 22.04it/s, accuracy=0.912, loss=0.138]\n"
          ]
        },
        {
          "name": "stdout",
          "output_type": "stream",
          "text": [
            "Epoch 4/10:\n",
            "Train Loss: 14.95%, Train Acc: 93.65%\n",
            "Valid Loss: 23.55%, Valid Acc: 91.24% \n",
            "\n"
          ]
        },
        {
          "name": "stderr",
          "output_type": "stream",
          "text": [
            "(Training) Epoch [5/10]: 100%|███████████████████████████████████████████████████████████████████████████████████████████████████████████████████| 214/214 [00:14<00:00, 14.46it/s]\n",
            "(Eval): 100%|██████████████████████████████████████████████████████████████████████████████████████████████████████████| 71/71 [00:02<00:00, 27.22it/s, accuracy=0.878, loss=0.315]\n"
          ]
        },
        {
          "name": "stdout",
          "output_type": "stream",
          "text": [
            "Epoch 5/10:\n",
            "Train Loss: 9.95%, Train Acc: 95.97%\n",
            "Valid Loss: 31.25%, Valid Acc: 87.76% \n",
            "\n"
          ]
        },
        {
          "name": "stderr",
          "output_type": "stream",
          "text": [
            "(Training) Epoch [6/10]: 100%|███████████████████████████████████████████████████████████████████████████████████████████████████████████████████| 214/214 [00:14<00:00, 14.96it/s]\n",
            "(Eval): 100%|██████████████████████████████████████████████████████████████████████████████████████████████████████████| 71/71 [00:02<00:00, 30.43it/s, accuracy=0.905, loss=0.119]\n"
          ]
        },
        {
          "name": "stdout",
          "output_type": "stream",
          "text": [
            "Epoch 6/10:\n",
            "Train Loss: 9.03%, Train Acc: 96.55%\n",
            "Valid Loss: 25.77%, Valid Acc: 90.54% \n",
            "\n"
          ]
        },
        {
          "name": "stderr",
          "output_type": "stream",
          "text": [
            "(Training) Epoch [7/10]: 100%|███████████████████████████████████████████████████████████████████████████████████████████████████████████████████| 214/214 [00:15<00:00, 13.87it/s]\n",
            "(Eval): 100%|██████████████████████████████████████████████████████████████████████████████████████████████████████████| 71/71 [00:01<00:00, 49.80it/s, accuracy=0.905, loss=0.216]\n"
          ]
        },
        {
          "name": "stdout",
          "output_type": "stream",
          "text": [
            "Epoch 7/10:\n",
            "Train Loss: 7.27%, Train Acc: 97.32%\n",
            "Valid Loss: 31.06%, Valid Acc: 90.49% \n",
            "\n"
          ]
        },
        {
          "name": "stderr",
          "output_type": "stream",
          "text": [
            "(Training) Epoch [8/10]: 100%|███████████████████████████████████████████████████████████████████████████████████████████████████████████████████| 214/214 [00:15<00:00, 13.78it/s]\n",
            "(Eval): 100%|███████████████████████████████████████████████████████████████████████████████████████████████████████████| 71/71 [00:01<00:00, 45.71it/s, accuracy=0.89, loss=0.348]\n"
          ]
        },
        {
          "name": "stdout",
          "output_type": "stream",
          "text": [
            "Epoch 8/10:\n",
            "Train Loss: 7.52%, Train Acc: 97.30%\n",
            "Valid Loss: 32.33%, Valid Acc: 89.04% \n",
            "\n"
          ]
        },
        {
          "name": "stderr",
          "output_type": "stream",
          "text": [
            "(Training) Epoch [9/10]: 100%|███████████████████████████████████████████████████████████████████████████████████████████████████████████████████| 214/214 [00:14<00:00, 14.68it/s]\n",
            "(Eval): 100%|██████████████████████████████████████████████████████████████████████████████████████████████████████████| 71/71 [00:01<00:00, 45.50it/s, accuracy=0.905, loss=0.263]\n"
          ]
        },
        {
          "name": "stdout",
          "output_type": "stream",
          "text": [
            "Epoch 9/10:\n",
            "Train Loss: 6.29%, Train Acc: 97.61%\n",
            "Valid Loss: 31.48%, Valid Acc: 90.54% \n",
            "\n"
          ]
        },
        {
          "name": "stderr",
          "output_type": "stream",
          "text": [
            "(Training) Epoch [10/10]: 100%|██████████████████████████████████████████████████████████████████████████████████████████████████████████████████| 214/214 [00:16<00:00, 13.14it/s]\n",
            "(Eval): 100%|███████████████████████████████████████████████████████████████████████████████████████████████████████████| 71/71 [00:03<00:00, 22.20it/s, accuracy=0.856, loss=0.28]"
          ]
        },
        {
          "name": "stdout",
          "output_type": "stream",
          "text": [
            "Epoch 10/10:\n",
            "Train Loss: 6.27%, Train Acc: 97.93%\n",
            "Valid Loss: 50.21%, Valid Acc: 85.56% \n",
            "\n"
          ]
        },
        {
          "name": "stderr",
          "output_type": "stream",
          "text": [
            "\n"
          ]
        }
      ],
      "source": [
        "\n",
        "cnn_model_regular = CNN_Regular(input_size=300, num_classes=2).to(DEVICE)\n",
        "\n",
        "cnn_model_train_history_regular = train_model(\n",
        "    model= cnn_model_regular,\n",
        "    batch_size = BATCH_SIZE,\n",
        "    loss_function = nn.CrossEntropyLoss(),\n",
        "    optimizer = torch.optim.Adam(cnn_model_regular.parameters(), lr=LEARNING_RATE, weight_decay=WEIGHT_DECAY),\n",
        "    epochs = EPOCHS,\n",
        "    train_set = train_dataset,\n",
        "    valid_set = valid_dataset,\n",
        "    device = DEVICE\n",
        ")"
      ]
    },
    {
      "cell_type": "code",
      "execution_count": 40,
      "id": "726dbb5a",
      "metadata": {},
      "outputs": [
        {
          "data": {
            "image/png": "[encoded data removed]",
            "text/plain": [
              "<Figure size 1000x500 with 2 Axes>"
            ]
          },
          "metadata": {},
          "output_type": "display_data"
        }
      ],
      "source": [
        "trend_plot_helper(\n",
        "    {\n",
        "        \"Accuracy - Epoch\": [\n",
        "            (\"Train Acc (Regularized CNN)\", cnn_model_train_history_regular[\"train_acc\"]),\n",
        "            (\"Validation Acc (Regularized CNN)\", cnn_model_train_history_regular[\"valid_acc\"]),\n",
        "            (\"Train Acc\", cnn_model_train_history[\"train_acc\"]),\n",
        "            (\"Validation Acc\", cnn_model_train_history[\"valid_acc\"])\n",
        "        ],\n",
        "        \"Loss - Epoch\": [\n",
        "            (\"Train Loss (Regularized CNN)\", cnn_model_train_history_regular[\"train_loss\"]),\n",
        "            (\"Validation Loss (Regularized CNN)\", cnn_model_train_history_regular[\"valid_loss\"]),\n",
        "            (\"Train Loss\", cnn_model_train_history[\"train_loss\"]),\n",
        "            (\"Validation Loss\", cnn_model_train_history[\"valid_loss\"])\n",
        "        ]\n",
        "    }\n",
        ")"
      ]
    }
  ],
  "metadata": {
    "accelerator": "GPU",
    "colab": {
      "gpuType": "T4",
      "provenance": []
    },
    "kernelspec": {
      "display_name": "Python 3 (ipykernel)",
      "language": "python",
      "name": "python3"
    },
    "language_info": {
      "codemirror_mode": {
        "name": "ipython",
        "version": 3
      },
      "file_extension": ".py",
      "mimetype": "text/x-python",
      "name": "python",
      "nbconvert_exporter": "python",
      "pygments_lexer": "ipython3",
      "version": "3.10.12"
    }
  },
  "nbformat": 4,
  "nbformat_minor": 5
}
