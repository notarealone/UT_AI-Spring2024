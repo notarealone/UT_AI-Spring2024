{
 "cells": [
  {
   "cell_type": "markdown",
   "metadata": {},
   "source": [
    "<h1 style=color:#023BFF><strong>Knapsack Problem, A Genetic Approach</strong></h1>"
   ]
  },
  {
   "cell_type": "markdown",
   "metadata": {},
   "source": [
    "<h2 style=color:#63B8FF>Introduction</h2>\n",
    "This notebook contains a solution to Knapsack problem with the help of genetic algorithm"
   ]
  },
  {
   "cell_type": "markdown",
   "metadata": {},
   "source": [
    "<h3><mark> Adding libraries and Initializing global variables </mark></h3>\n",
    "For the first step we have to include libraries that we are going to use further in the project.\n",
    "We also need to initialize some hyper parameters to control the flow of our algorithm.\n",
    "\n",
    "<div class=\"alert alert-block alert-info\">\n",
    "<b>Limitation of Solutions :</b> the first 4 parameters are given by the instructor (max weight, min value, range of different items to choose)</div>\n",
    "\n",
    "<div class=\"alert alert-block alert-info\">\n",
    "<b>Population Settings :</b> population increase ratio can be set to determine whether the population increases over generations or stays the same (in terms of number) </div>\n",
    "\n",
    "<div class=\"alert alert-block alert-info\">\n",
    "<b>Partitioning Ratio :</b> This floating number determines the best part to be chosen for mating/creation of each new generation</div>\n",
    "\n",
    "<div class=\"alert alert-block alert-info\">\n",
    "<b>Mutation, Crossover :</b> Ratio of these are set to determines the probability of doing crossover, mutation or just simply forwarding the chromosome to the next generation</div>"
   ]
  },
  {
   "cell_type": "code",
   "execution_count": 1,
   "metadata": {},
   "outputs": [],
   "source": [
    "import pandas as pd\n",
    "import numpy as np\n",
    "import random as rd\n",
    "import matplotlib.pyplot as plt\n",
    "import copy\n",
    "\n",
    "maxWeight = 10\n",
    "minValue = 12\n",
    "maxDiversity = 4\n",
    "minDiversity = 2\n",
    "\n",
    "populationSize = 30\n",
    "populationIncRatio = 1.00\n",
    "numOfGenerations = 400\n",
    "\n",
    "bestPartRatio = 0.5\n",
    "\n",
    "crossoverRate = 0.85\n",
    "mutationRate = 0.12"
   ]
  },
  {
   "cell_type": "markdown",
   "metadata": {},
   "source": [
    "<h3 style=color:green><strong>Chromosome Creation</strong></h3>\n",
    "<p style=font-family:Calibri>Chromosomes are solutions made by adding genomes (different weight of different items) together</p>\n",
    "<p style=font-family:Calibri>the initialization of chromosome are completely random, then we have the getFitness which will return total sack value as fitness score if the limitation are met! </p>\n",
    "\n",
    "<div class=\"alert alert-block alert-info\">\n",
    "<b>evalValue() :</b> recalculates sackValue (used when we change the sackWeight vector while using crossover/mutation)</div>"
   ]
  },
  {
   "cell_type": "code",
   "execution_count": 2,
   "metadata": {},
   "outputs": [],
   "source": [
    "class Chromosome:\n",
    "    def __init__(self, data, numOfItems):\n",
    "        randomIndex = rd.sample(range(len(data)), numOfItems)\n",
    "        sackWeight = [0 for _ in range(len(data))]\n",
    "        sackValue = 0\n",
    "        for i in randomIndex :\n",
    "            chosenWeight = rd.uniform(0, data['Available Weight'][i])\n",
    "            sackValue += (chosenWeight/data['Available Weight'][i]) * data['Value'][i]\n",
    "            sackWeight[i] = chosenWeight\n",
    "        self.sackVal = sackValue\n",
    "        self.sackW = sackWeight\n",
    "\n",
    "\n",
    "    def getFitness(self):\n",
    "        global minValue, maxWeight\n",
    "\n",
    "        if(self.sackVal < minValue or sum(self.sackW) > maxWeight):\n",
    "            return 0\n",
    "        else :\n",
    "            return self.sackVal\n",
    "        \n",
    "        \n",
    "    def evalValue(self, data):\n",
    "        sackValue = 0\n",
    "        for i in range(len(self.sackW)) :\n",
    "            if(self.sackW[i]):\n",
    "                sackValue += (self.sackW[i]/data['Available Weight'][i]) * data['Value'][i]\n",
    "        self.sackVal = sackValue"
   ]
  },
  {
   "cell_type": "markdown",
   "metadata": {},
   "source": [
    "<h3 style=color:purple> <strong>First Generation</strong></h3>\n",
    "below you can find the function that generates the first population randomly with only considartion being the diversity of items used to create a chromosome"
   ]
  },
  {
   "cell_type": "code",
   "execution_count": 3,
   "metadata": {},
   "outputs": [],
   "source": [
    "def generateInitialPopulation(data):\n",
    "    global maxDiversity, minDiversity, populationSize\n",
    "\n",
    "    initialPopulation = list()\n",
    "    for i in range(populationSize):\n",
    "        numOfItems = rd.randint(minDiversity, maxDiversity)\n",
    "        initialPopulation.append(Chromosome(data, numOfItems))\n",
    "\n",
    "    return initialPopulation"
   ]
  },
  {
   "cell_type": "markdown",
   "metadata": {},
   "source": [
    "<h3 style=color:yellow> <strong>Selection </strong></h3>\n",
    "Selection is done on the population with given Partition ratio (can be found in the first Cell) [usualy 0.5 or 0.25]"
   ]
  },
  {
   "cell_type": "code",
   "execution_count": 4,
   "metadata": {},
   "outputs": [],
   "source": [
    "def selectBestPart(population, bestPartRatio):\n",
    "    return sorted(population, key=lambda x : x.getFitness(), reverse=True)[0:int(len(population)* bestPartRatio)]"
   ]
  },
  {
   "cell_type": "markdown",
   "metadata": {},
   "source": [
    "<h3 style=color:#FF0013> <strong>Crossover</strong> </h3>\n",
    "<p style=font-family:Calibri>In this project I am using one-point crossover as it's easy to implement and understand (and results are good enough!)</p>\n",
    "<div class=\"alert alert-block alert-info\">\n",
    "<b>Crossover vs. positiveCrossover :</b> the only difference between the two is that positiveCrossover tries it's best to avoide making a child that would get 0 as their fitness score (by checking the fitness before returning the child, altough it may still endup with a child that has 0 score)</div>\n",
    "\n",
    "<div class=\"alert alert-block alert-success\">\n",
    "<b>Choice :</b> for the remaineder of this project normal crossover is used as it is more simple, but positiveCrossover has a correct functionality too and can replace crossover whereever it's used!\n",
    "</div>"
   ]
  },
  {
   "cell_type": "code",
   "execution_count": 60,
   "metadata": {},
   "outputs": [],
   "source": [
    "def crossover(data, parent1, parent2):\n",
    "    global maxDiversity, minDiversity\n",
    "\n",
    "    child = copy.deepcopy(parent1)\n",
    "    accept = False\n",
    "    while(accept == False):\n",
    "        crossoverPoint = rd.randrange(0, len(data))\n",
    "        child = copy.deepcopy(parent1)\n",
    "        if(np.random.random() > 0.5):\n",
    "            child.sackW[crossoverPoint:len(data)] = parent2.sackW[crossoverPoint:len(data)]\n",
    "        else :\n",
    "            child.sackW[0:crossoverPoint] = parent2.sackW[0:crossoverPoint]\n",
    "        if(sum(x != 0 for x in child.sackW) >= minDiversity and sum(x != 0 for x in child.sackW) <= maxDiversity):\n",
    "            accept = True\n",
    "    child.evalValue(data)\n",
    "    return child\n",
    "\n",
    "def positiveCrossover(data, parent1, parent2):\n",
    "    global minDiversity, maxDiversity\n",
    "\n",
    "    child = copy.deepcopy(parent1)\n",
    "    accept = False\n",
    "    while(accept == False):\n",
    "        crossoverPoint = rd.randrange(0, len(data))\n",
    "        child = copy.deepcopy(parent1)\n",
    "        child.sackW[crossoverPoint:len(data)] = parent2.sackW[crossoverPoint:len(data)]\n",
    "        child.evalValue(data)\n",
    "        if(child.getFitness() > 0):\n",
    "            if(sum(x != 0 for x in child.sackW) >= minDiversity and sum(x != 0 for x in child.sackW) <= maxDiversity):\n",
    "                accept = True\n",
    "        else :\n",
    "            child.sackW[crossoverPoint:len(data)] = parent1.sackW[crossoverPoint:len(data)]\n",
    "            child.sackW[0:crossoverPoint] = parent2.sackW[0:crossoverPoint]\n",
    "            if(sum(x != 0 for x in child.sackW) >= minDiversity and sum(x != 0 for x in child.sackW) <= maxDiversity):\n",
    "                accept = True\n",
    "    child.evalValue(data)\n",
    "    return child"
   ]
  },
  {
   "cell_type": "markdown",
   "metadata": {},
   "source": [
    "<h3 style=color:#FF0013> <strong>Mutation</strong> </h3>\n",
    "<p style=font-family:Calibri>For this part some kind of bitFlip is used, as it will randomly choose one of the items possible in the genome, change its weight (again by a random amount) and re-evaluate the sack value</p>\n",
    "\n",
    "<div class=\"alert alert-block alert-info\">\n",
    "<b>mutate vs. positiveMutate :</b> the only difference between the two is that positiveMutate tries it's best to avoide changing the choromosome in a way that would get its fitness score to 0 ! (by avoiding weight change of an item either because it was chosen wrongly or with going to be changed by a wrong amount)</div>\n",
    "\n",
    "<div class=\"alert alert-block alert-success\">\n",
    "<b>Choice :</b> for the remaineder of this project normal mutatuib is used as it is more simple, but positiveMutate has a correct functionality too and can replace crossover whereever it's used!\n",
    "</div>"
   ]
  },
  {
   "cell_type": "code",
   "execution_count": 6,
   "metadata": {},
   "outputs": [],
   "source": [
    "\n",
    "\n",
    "def mutate(data, chromosome):\n",
    "    notZeros = list()\n",
    "    for i in range(len(chromosome.sackW)):\n",
    "        if(chromosome.sackW[i] > 0):\n",
    "            notZeros.append(i)\n",
    "    mutationBit = rd.randrange(0, len(data))\n",
    "    newZeroBit = rd.choice(notZeros)\n",
    "    chromosome.sackW[mutationBit] = rd.uniform(0, data['Available Weight'][mutationBit])\n",
    "    chromosome.sackW[newZeroBit] = 0\n",
    "    chromosome.evalValue(data)\n",
    "    return chromosome\n",
    "\n",
    "\n",
    "def positiveMutate(data, chromosome):\n",
    "    global maxWeight\n",
    "    \n",
    "    notZeros = list()\n",
    "    for i in range(len(chromosome.sackW)):\n",
    "        if(chromosome.sackW[i] > 0):\n",
    "            notZeros.append(i)\n",
    "    mutationBit = rd.randrange(0, len(data))\n",
    "    newZeroBit = rd.choice(notZeros)\n",
    "    mutationAmount = rd.uniform(0, data['Available Weight'][mutationBit])\n",
    "    if(chromosome.getFitness() > 0):\n",
    "        while((sum(chromosome.sackW) - chromosome.sackW[mutationBit] + mutationAmount) > maxWeight):\n",
    "            mutationBit = rd.randrange(0, len(data))\n",
    "            mutationAmount = rd.uniform(0, data['Available Weight'][mutationBit])\n",
    "    chromosome.sackW[mutationBit] = mutationAmount\n",
    "    chromosome.sackW[newZeroBit] = 0\n",
    "    chromosome.evalValue(data)\n",
    "    return chromosome\n",
    "\n"
   ]
  },
  {
   "cell_type": "markdown",
   "metadata": {},
   "source": [
    "<h3 style=color:#FF8300> <strong>Evolution</strong> </h3>\n",
    "with the help of Selection, Mutation and Crossover, we can evolve out poplution generation by generation.\n",
    "for making a new generation we have to choose our best chromosomes (for example best half considering fitness score) and evolve a new generation around them, either by crossover, mutation or simply moving a copy of them to the next generation. Thi operation is done by giving a priority to each of crossover/mutation/forwarding (set at the first cell of the notebook)\n",
    "\n",
    "<div class=\"alert alert-block alert-info\">\n",
    "<b>Forwarding :</b> when neither mutation or crossover is chosen, we simply copy a chromosome to the next generation (with more priority given to the better chromosome in terms of fitness score)</div>"
   ]
  },
  {
   "cell_type": "code",
   "execution_count": 7,
   "metadata": {},
   "outputs": [],
   "source": [
    "\n",
    "def makeNextGeneration(data, pastGeneration):\n",
    "    global crossoverRate, mutationRate, populationIncRatio, bestPartRatio\n",
    "\n",
    "    newGeneration = list()\n",
    "    bestPart = selectBestPart(pastGeneration, bestPartRatio)\n",
    "\n",
    "    for _ in range(int(len(pastGeneration) * populationIncRatio)):\n",
    "        choiceProb = np.random.random()\n",
    "\n",
    "        if(choiceProb < crossoverRate):\n",
    "            newGeneration.append(crossover(data, parent1= bestPart[rd.randrange(0, len(bestPart))],\n",
    "                                            parent2= bestPart[rd.randrange(0, len(bestPart))]))\n",
    "        elif(choiceProb < mutationRate + crossoverRate):\n",
    "            newGeneration.append(mutate(data, pastGeneration[rd.randrange(0, len(bestPart))]))\n",
    "\n",
    "        else :\n",
    "            chances = list(range(len(bestPart), 0, -1))\n",
    "            index = list(range(0, len(bestPart)))\n",
    "            newGeneration.append(bestPart[rd.choices(index, chances, k=1)[0]])\n",
    "\n",
    "    return newGeneration"
   ]
  },
  {
   "cell_type": "markdown",
   "metadata": {},
   "source": [
    "<h3 style=color:brown> <strong>Running The Algorithm</strong> </h3>\n",
    "In the first step we have to read the list of items provided in a CSV file with help of pandas library as a Dataframe\n",
    "We also show the best solution in the first generation for more clarity\n",
    "<div class=\"alert alert-block alert-info\">\n",
    "<b>Fitness history :</b> Best score and Mean of every generation is stored in a list for visualisation at a later stage</div>\n",
    "<div class=\"alert alert-block alert-danger\">\n",
    "<b>FitnessList :</b> Only the top 80% of population's fitness score is stored, as the lower ones only cause fluctuation in our statistics and visualizations\n",
    "</div>"
   ]
  },
  {
   "cell_type": "code",
   "execution_count": 161,
   "metadata": {},
   "outputs": [],
   "source": [
    "import pandas as pd\n",
    "import numpy as np\n",
    "import random as rd\n",
    "import matplotlib.pyplot as plt\n",
    "import copy\n",
    "\n",
    "maxWeight = 80\n",
    "minValue = 88.01\n",
    "maxDiversity = 19\n",
    "minDiversity = 18\n",
    "\n",
    "populationSize = 50\n",
    "populationIncRatio = 1.00\n",
    "numOfGenerations = 2\n",
    "\n",
    "bestPartRatio = 0.4\n",
    "\n",
    "crossoverRate = 0.8\n",
    "mutationRate = 0.1"
   ]
  },
  {
   "cell_type": "code",
   "execution_count": 170,
   "metadata": {},
   "outputs": [
    {
     "name": "stdout",
     "output_type": "stream",
     "text": [
      "Best solution in the first generation (shown by weight) : \n",
      "MazMaz -> 2.515206446395487 \n",
      "Doogh-e-Abali -> 4.174695368735656 \n",
      "Nani -> 3.040854801674989 \n",
      "Jooj -> 2.473386387064478 \n",
      "Hot-Dog -> 8.997066649185303 \n",
      "Chips -> 2.6796217238721036 \n",
      "Nooshaba -> 9.42543147167332 \n",
      "Shokolat -> 0.8722194619019186 \n",
      "Chocoroll -> 3.182564711978109 \n",
      "Abnabat -> 0.3825711680642674 \n",
      "Adams-Khersi -> 2.323387445501828 \n",
      "Popcorn -> 15.485338044343987 \n",
      "Pastil -> 1.280490687143395 \n",
      "Tordilla -> 6.640550314760276 \n",
      "Masghati -> 0.20030511402748752 \n",
      "Ghottab -> 5.788777968850194 \n",
      "Saghe-Talaei -> 6.592401524123854 \n",
      "Choob-Shoor -> 12.213835404585723 \n",
      "Total value : 85.2055\n"
     ]
    }
   ],
   "source": [
    "snacks = pd.read_csv('snacks.csv')\n",
    "population = generateInitialPopulation(snacks)\n",
    "fitnessBestHistory = list()\n",
    "fitnessMeanHistory = list()\n",
    "fitnessList = [round(x.getFitness(), 4) for x in selectBestPart(population, 0.8)]\n",
    "fitnessBestHistory.append(fitnessList[0])\n",
    "fitnessMeanHistory.append(sum(fitnessList)/len(fitnessList))\n",
    "\n",
    "output = \"Best solution in the first generation (shown by weight) : \\n\"\n",
    "bestHalf = selectBestPart(population, 0.5)\n",
    "for i in range(len(bestHalf[0].sackW)):\n",
    "    if(bestHalf[0].sackW[i] > 0):\n",
    "        output += f\"{snacks['Snack'][i]} -> {bestHalf[0].sackW[i]} \\n\"\n",
    "output += f\"Total value : {round(bestHalf[0].sackVal, 4)}\"\n",
    "print(output)\n"
   ]
  },
  {
   "cell_type": "markdown",
   "metadata": {},
   "source": [
    "__Now we have to evolve our population generation by generation (for a specific amount set at the first Cell)__"
   ]
  },
  {
   "cell_type": "code",
   "execution_count": 171,
   "metadata": {},
   "outputs": [
    {
     "name": "stdout",
     "output_type": "stream",
     "text": [
      "Best solution in the last generation (shown by weight) : \n",
      "MazMaz -> 1.3149824359482054 \n",
      "Doogh-e-Abali -> 12.082963246503548 \n",
      "Nani -> 4.982940510096373 \n",
      "Jooj -> 6.257932349147927 \n",
      "Hot-Dog -> 4.870875542062882 \n",
      "Chips -> 0.8279712034550544 \n",
      "Nooshaba -> 9.777093018177212 \n",
      "Shokolat -> 0.35341270168057837 \n",
      "Chocoroll -> 4.9085852732254835 \n",
      "Cookies -> 0.1293095592486183 \n",
      "Adams-Khersi -> 5.76796952565351 \n",
      "Popcorn -> 12.344404310289086 \n",
      "Pastil -> 1.9686467412309931 \n",
      "Tordilla -> 5.727267849870147 \n",
      "Masghati -> 3.5370817832814545 \n",
      "Ghottab -> 5.411966303558938 \n",
      "Saghe-Talaei -> 4.204537908424813 \n",
      "Choob-Shoor -> 6.540951066275058 \n",
      "Total value : 92.2801\n"
     ]
    }
   ],
   "source": [
    "for i in range(numOfGenerations):\n",
    "    population = makeNextGeneration(snacks, population)\n",
    "    fitnessList = [round(x.getFitness(), 4) for x in selectBestPart(population, 0.8)]\n",
    "    fitnessBestHistory.append(fitnessList[0])\n",
    "    fitnessMeanHistory.append(sum(fitnessList)/len(fitnessList))\n",
    "\n",
    "output = \"Best solution in the last generation (shown by weight) : \\n\"\n",
    "bestHalf = selectBestPart(population, 0.5)\n",
    "for i in range(len(bestHalf[0].sackW)):\n",
    "    if(bestHalf[0].sackW[i] > 0):\n",
    "        output += f\"{snacks['Snack'][i]} -> {bestHalf[0].sackW[i]} \\n\"\n",
    "output += f\"Total value : {round(bestHalf[0].sackVal, 4)}\"\n",
    "print(output)"
   ]
  },
  {
   "cell_type": "markdown",
   "metadata": {},
   "source": [
    "<h3 style=color:yellow> <strong>Visualisation</strong> </h3>\n",
    "Simply visualizes the growth of best chromosome and the whole population after each new generation"
   ]
  },
  {
   "cell_type": "code",
   "execution_count": null,
   "metadata": {},
   "outputs": [
    {
     "data": {
      "image/png": "[encoded data removed]",
      "text/plain": [
       "<Figure size 640x480 with 1 Axes>"
      ]
     },
     "metadata": {},
     "output_type": "display_data"
    }
   ],
   "source": [
    "plt.plot(list(range(numOfGenerations+1)), fitnessBestHistory, label='Max Fitness')\n",
    "plt.plot(list(range(numOfGenerations+1)), fitnessMeanHistory, label='Mean Fitness')\n",
    "plt.legend()\n",
    "plt.title('Fitness through the generations')\n",
    "plt.xlabel('Generation')\n",
    "plt.ylabel('Fitness')\n",
    "plt.show()"
   ]
  },
  {
   "cell_type": "markdown",
   "metadata": {},
   "source": [
    "<h2><strong>Homework Questions : </strong><h2>\n",
    "<img src=\"questions.png\" />"
   ]
  },
  {
   "cell_type": "markdown",
   "metadata": {},
   "source": [
    "1.  1. <p> <strong> Too small initial population  -> </strong>limiting search space resulting in premature convergence to suboptimal solutions, too much sensitivity to initial conditions (ex. max weight or min value) </p>\n",
    "    2. <p><strong>Too large initial population -> </strong>more computational resources needed, might result in slower than expected convergence because of how close each solution is to the others, The Law of Diminishing returns</p>\n",
    "2. 1. <p><strong>Speed -> </strong>It will drastically as the population will increase exponentially </p>\n",
    "    2. <p><strong>Accuracy -> </strong>It usually helps the accuracy because of three main reasons. First, a growing population increases the search space and helps with exploration. Second, by continuously adding new individuals to the population we reduced the chance of convergence to a suboptimal solution, and Third, the growing population can make algorithm resiliant to sudden changes and shifts (sometimes caused by bad mutations)  </p>\n",
    "3. <p> While <strong>crossover </strong>tries to exploit already existing good features,<strong> mutation </strong>tries to find new possibilities in the search space. one might argue that by only exploiting good features and combining better chromosomes we can find the best solution, but In the real world the <strong>initial population </strong>might have no good feature at all (ex. a population that all the chromosomes get zero fitness score), or the search space might limit you to Its suboptimal solution, that's when mutation can help to find solutions never seen before.</p>\n",
    "4. 1. Parallelization\n",
    "    2. Different mutation or crossover methods (ex. two-point crossover)\n",
    "    3. Early convergence detection (so the operation can terminate if it detects no difference in newer generations)\n",
    "    4. Dynamicly changing population size, mutation rate or crossover rate based on the model's performance\n",
    "5.  <p>Some reasons for <strong>Stagnation </strong>: </p>\n",
    "    1. Lack of diversity in initial/current population (might be caused by bad conditions or just randomly generated)<p></p>\n",
    "    2. Convergence to a local optimum due to lack of decent exploration strategies<p></p>\n",
    "    3. Static environment\n",
    "    <p>Solutions : </p>\n",
    "    1. Increasing parameters like mutation rate to increase diversity<p></p>\n",
    "    2. Dynamic adaptation such as chaning mutation/crossover rate over time\n",
    "    <p></p>\n",
    "6. 1. Tracking locality of answers, if there seems to be no convergence after some time, we could conclude that there is no answer\n",
    "    2. Re-evaluate fitness calculation\n",
    "    3. Change crossover/mutation strategies\n",
    "    "
   ]
  },
  {
   "cell_type": "markdown",
   "metadata": {},
   "source": [
    "<h4 style=color:#63B8FF><mark>Name : Alireza Hosseini <br>Student ID : 810100125</mark> </h4>\n",
    "\n"
   ]
  },
  {
   "cell_type": "markdown",
   "metadata": {},
   "source": [
    "<h5 style=color:#C900C0> References </h5>\n",
    "<a href=\"https://medium.com/koderunners/genetic-algorithm-part-3-knapsack-problem-b59035ddd1d6\" target=\"_blank\">Genetic Algorithm: Part 3 — Knapsack Problem</a><br>\n",
    "<a href=\"https://www.kaggle.com/code/cuecacuela/the-ultimate-markdown-cheat-sheet/notebook#3.-Links\" target=\"_blank\">The Ultimate Markdown Cheat Sheet</a><br>\n",
    "<div class=\"alert alert-block alert-danger\">\n",
    "<b>Use of ChatBots :</b>  OpenAI's ChatGPT and Google's Gemini have been used to further understand the genetic algorithm, use of different libraries and get some ideas about Homework Questions, but no piece of code or text has been directly quoted/copied from them.\n",
    "</div>\n"
   ]
  }
 ],
 "metadata": {
  "kernelspec": {
   "display_name": "Python 3 (ipykernel)",
   "language": "python",
   "name": "python3"
  }
 },
 "nbformat": 4,
 "nbformat_minor": 2
}
